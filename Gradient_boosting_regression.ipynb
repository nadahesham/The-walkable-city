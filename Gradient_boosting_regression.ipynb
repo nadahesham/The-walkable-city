{
  "nbformat": 4,
  "nbformat_minor": 0,
  "metadata": {
    "colab": {
      "name": " Gradient_boosting_regression.ipynb",
      "provenance": [],
      "collapsed_sections": [],
      "toc_visible": true,
      "include_colab_link": true
    },
    "kernelspec": {
      "name": "python3",
      "display_name": "Python 3"
    }
  },
  "cells": [
    {
      "cell_type": "markdown",
      "metadata": {
        "id": "view-in-github",
        "colab_type": "text"
      },
      "source": [
        "<a href=\"https://colab.research.google.com/github/nadahesham/The-walkable-city/blob/master/Gradient_boosting_regression.ipynb\" target=\"_parent\"><img src=\"https://colab.research.google.com/assets/colab-badge.svg\" alt=\"Open In Colab\"/></a>"
      ]
    },
    {
      "cell_type": "markdown",
      "metadata": {
        "id": "LeamvpPVXuS_",
        "colab_type": "text"
      },
      "source": [
        "# Random Forest Regression"
      ]
    },
    {
      "cell_type": "markdown",
      "metadata": {
        "id": "O2wvZ7SKXzVC",
        "colab_type": "text"
      },
      "source": [
        "## Importing the libraries"
      ]
    },
    {
      "cell_type": "code",
      "metadata": {
        "id": "PVmESEFZX4Ig",
        "colab_type": "code",
        "colab": {}
      },
      "source": [
        "import numpy as np\n",
        "import matplotlib.pyplot as plt\n",
        "import pandas as pd"
      ],
      "execution_count": 1,
      "outputs": []
    },
    {
      "cell_type": "markdown",
      "metadata": {
        "id": "zgbK_F8-X7em",
        "colab_type": "text"
      },
      "source": [
        "## Importing the dataset"
      ]
    },
    {
      "cell_type": "code",
      "metadata": {
        "id": "adBE4tjQX_Bh",
        "colab_type": "code",
        "colab": {}
      },
      "source": [
        "dataset = pd.read_csv('EPA_Walkability_Index.csv',encoding = \"ISO-8859-1\")\n",
        "X = dataset.iloc[:, :-1].values\n",
        "y = dataset.iloc[:, -1].values\n"
      ],
      "execution_count": 2,
      "outputs": []
    },
    {
      "cell_type": "code",
      "metadata": {
        "id": "qW6M6MaMHSM3",
        "colab_type": "code",
        "colab": {}
      },
      "source": [
        "from sklearn.impute import SimpleImputer\n",
        "imputer = SimpleImputer(missing_values=np.nan, strategy='most_frequent')\n",
        "imputer.fit(X[:, 4].reshape(1,-1))\n",
        "X[:, 4] = imputer.transform(X[:, 4].reshape(1,-1))\n"
      ],
      "execution_count": 3,
      "outputs": []
    },
    {
      "cell_type": "markdown",
      "metadata": {
        "id": "bqrxyy8vaHfd",
        "colab_type": "text"
      },
      "source": [
        "**Encoding independent variables**\n"
      ]
    },
    {
      "cell_type": "code",
      "metadata": {
        "id": "rdHZVcLIaMat",
        "colab_type": "code",
        "colab": {}
      },
      "source": [
        "from sklearn.compose import ColumnTransformer\n",
        "from sklearn.preprocessing import OneHotEncoder\n",
        "ct = ColumnTransformer(transformers=[('encoder', OneHotEncoder(), [2])], remainder='passthrough')\n",
        "X = np.array(ct.fit_transform(X))"
      ],
      "execution_count": 4,
      "outputs": []
    },
    {
      "cell_type": "markdown",
      "metadata": {
        "id": "ptNjcy7bOBlD",
        "colab_type": "text"
      },
      "source": [
        "## Splitting the dataset into the Training set and Test set"
      ]
    },
    {
      "cell_type": "code",
      "metadata": {
        "id": "C7NdofoCOFQF",
        "colab_type": "code",
        "colab": {}
      },
      "source": [
        "from sklearn.model_selection import train_test_split\n",
        "X_train, X_test, y_train, y_test = train_test_split(X, y, test_size = 0.2, random_state = 0)"
      ],
      "execution_count": 5,
      "outputs": []
    },
    {
      "cell_type": "markdown",
      "metadata": {
        "id": "v4S2fyIBYDcu",
        "colab_type": "text"
      },
      "source": [
        "**Training the Random Forest Regression model on the whole dataset**\n",
        "\n"
      ]
    },
    {
      "cell_type": "code",
      "metadata": {
        "id": "o8dOCoJ1YKMc",
        "colab_type": "code",
        "colab": {
          "base_uri": "https://localhost:8080/",
          "height": 167
        },
        "outputId": "caed7110-5441-42fb-fb70-05702b44dc5c"
      },
      "source": [
        "from sklearn.ensemble import GradientBoostingRegressor\n",
        "regressor = GradientBoostingRegressor()\n",
        "regressor.fit(X_train, y_train)"
      ],
      "execution_count": 6,
      "outputs": [
        {
          "output_type": "execute_result",
          "data": {
            "text/plain": [
              "GradientBoostingRegressor(alpha=0.9, ccp_alpha=0.0, criterion='friedman_mse',\n",
              "                          init=None, learning_rate=0.1, loss='ls', max_depth=3,\n",
              "                          max_features=None, max_leaf_nodes=None,\n",
              "                          min_impurity_decrease=0.0, min_impurity_split=None,\n",
              "                          min_samples_leaf=1, min_samples_split=2,\n",
              "                          min_weight_fraction_leaf=0.0, n_estimators=100,\n",
              "                          n_iter_no_change=None, presort='deprecated',\n",
              "                          random_state=None, subsample=1.0, tol=0.0001,\n",
              "                          validation_fraction=0.1, verbose=0, warm_start=False)"
            ]
          },
          "metadata": {
            "tags": []
          },
          "execution_count": 6
        }
      ]
    },
    {
      "cell_type": "markdown",
      "metadata": {
        "id": "DM_jh0frOPKE",
        "colab_type": "text"
      },
      "source": [
        "## Predicting the Test set results"
      ]
    },
    {
      "cell_type": "code",
      "metadata": {
        "id": "JGa9ZfM4OTNw",
        "colab_type": "code",
        "colab": {
          "base_uri": "https://localhost:8080/",
          "height": 1000
        },
        "outputId": "b1ae5e94-937a-4377-b866-657043f90d8d"
      },
      "source": [
        "y_pred = regressor.predict(X_test)\n",
        "np.set_printoptions(precision=2)\n",
        "print(np.concatenate((y_pred.reshape(len(y_pred),1), y_test.reshape(len(y_test),1)),1))"
      ],
      "execution_count": 7,
      "outputs": [
        {
          "output_type": "stream",
          "text": [
            "[[ 6.8   6.67]\n",
            " [12.44 12.67]\n",
            " [10.33 10.83]\n",
            " [14.71 14.33]\n",
            " [14.49 14.5 ]\n",
            " [16.96 17.17]\n",
            " [16.98 17.  ]\n",
            " [ 5.09  5.5 ]\n",
            " [ 6.74  7.5 ]\n",
            " [ 4.18  4.  ]\n",
            " [13.36 13.5 ]\n",
            " [ 6.9   6.5 ]\n",
            " [11.77 11.67]\n",
            " [ 9.88  9.67]\n",
            " [12.09 12.17]\n",
            " [14.49 14.5 ]\n",
            " [15.72 15.67]\n",
            " [13.39 13.33]\n",
            " [13.18 12.67]\n",
            " [14.84 14.67]\n",
            " [13.26 13.33]\n",
            " [12.71 12.33]\n",
            " [11.37 11.33]\n",
            " [ 7.24  7.17]\n",
            " [16.7  16.67]\n",
            " [13.58 13.67]\n",
            " [16.62 16.67]\n",
            " [15.15 14.83]\n",
            " [ 4.92  4.5 ]\n",
            " [15.28 15.5 ]\n",
            " [15.16 15.33]\n",
            " [15.11 15.33]\n",
            " [14.82 14.67]\n",
            " [13.18 13.17]\n",
            " [12.31 12.67]\n",
            " [14.02 13.5 ]\n",
            " [16.42 16.33]\n",
            " [ 2.85  3.  ]\n",
            " [ 5.83  5.83]\n",
            " [14.38 14.5 ]\n",
            " [13.83 13.67]\n",
            " [12.99 13.17]\n",
            " [16.73 16.67]\n",
            " [ 5.72  5.5 ]\n",
            " [13.88 13.83]\n",
            " [10.13 10.  ]\n",
            " [15.   14.83]\n",
            " [16.54 16.67]\n",
            " [17.08 17.33]\n",
            " [ 5.17  5.17]\n",
            " [14.54 14.33]\n",
            " [14.53 14.67]\n",
            " [13.78 13.67]\n",
            " [13.65 13.67]\n",
            " [16.1  16.33]\n",
            " [ 4.2   4.5 ]\n",
            " [10.07 10.  ]\n",
            " [14.86 14.67]\n",
            " [14.01 13.67]\n",
            " [15.18 15.17]\n",
            " [15.74 15.5 ]\n",
            " [14.62 14.67]\n",
            " [ 9.76 10.33]\n",
            " [ 9.5   9.5 ]\n",
            " [10.77 10.83]\n",
            " [ 9.58  9.33]\n",
            " [15.28 15.33]\n",
            " [16.28 16.  ]\n",
            " [ 8.22  8.17]\n",
            " [14.55 14.33]\n",
            " [11.84 11.67]\n",
            " [12.32 12.5 ]\n",
            " [14.23 14.5 ]\n",
            " [11.81 11.5 ]\n",
            " [ 8.59  8.83]\n",
            " [15.85 15.83]\n",
            " [13.73 14.  ]\n",
            " [16.82 17.  ]\n",
            " [ 6.74  7.  ]\n",
            " [12.15 12.  ]\n",
            " [13.83 13.5 ]\n",
            " [12.8  12.5 ]\n",
            " [17.2  17.33]\n",
            " [15.   14.67]\n",
            " [15.18 15.33]\n",
            " [16.1  16.  ]\n",
            " [17.   17.17]\n",
            " [10.06  9.33]\n",
            " [17.21 17.33]\n",
            " [11.89 12.  ]\n",
            " [14.67 14.83]\n",
            " [16.21 16.17]\n",
            " [ 7.72  8.  ]\n",
            " [ 6.4   6.67]\n",
            " [14.8  14.83]\n",
            " [14.11 13.5 ]\n",
            " [13.91 13.67]\n",
            " [14.82 15.  ]\n",
            " [ 7.    7.  ]\n",
            " [11.34 11.17]\n",
            " [17.6  17.5 ]\n",
            " [15.07 15.17]\n",
            " [15.61 16.  ]\n",
            " [ 5.59  5.67]\n",
            " [14.67 14.83]\n",
            " [14.5  14.67]\n",
            " [ 5.02  5.  ]\n",
            " [ 2.67  2.67]\n",
            " [ 9.21  9.5 ]\n",
            " [16.21 16.17]\n",
            " [13.13 13.17]\n",
            " [14.45 14.17]\n",
            " [11.04 10.83]\n",
            " [ 6.4   6.67]\n",
            " [15.8  15.83]\n",
            " [15.47 15.67]\n",
            " [15.55 16.  ]\n",
            " [16.63 16.67]\n",
            " [17.19 17.67]\n",
            " [15.34 15.5 ]\n",
            " [12.86 12.5 ]\n",
            " [14.   14.33]\n",
            " [10.82 10.67]\n",
            " [13.33 13.17]\n",
            " [15.39 15.5 ]\n",
            " [ 7.66  7.83]\n",
            " [12.4  12.  ]\n",
            " [13.09 13.  ]\n",
            " [10.57 10.83]\n",
            " [13.7  13.83]\n",
            " [16.51 16.33]\n",
            " [16.66 16.83]\n",
            " [15.59 16.  ]\n",
            " [12.47 12.67]\n",
            " [15.84 15.83]\n",
            " [13.9  14.  ]\n",
            " [13.85 13.67]\n",
            " [12.94 12.67]\n",
            " [10.01 10.33]\n",
            " [14.12 14.17]\n",
            " [13.78 13.83]\n",
            " [ 4.54  4.5 ]\n",
            " [15.17 15.17]\n",
            " [15.33 15.33]\n",
            " [16.19 16.17]\n",
            " [15.29 15.67]\n",
            " [16.97 16.83]\n",
            " [10.85 10.83]\n",
            " [12.96 12.83]\n",
            " [10.69 11.  ]\n",
            " [14.95 15.17]\n",
            " [15.74 15.67]\n",
            " [11.6  11.33]\n",
            " [13.46 13.5 ]\n",
            " [ 6.66  5.83]\n",
            " [15.36 15.67]\n",
            " [14.38 14.67]\n",
            " [ 2.01  1.67]\n",
            " [11.47 11.33]\n",
            " [15.18 15.17]\n",
            " [13.24 13.  ]\n",
            " [15.85 16.  ]\n",
            " [11.85 11.83]\n",
            " [17.24 17.5 ]\n",
            " [ 5.04  5.  ]\n",
            " [12.46 12.5 ]\n",
            " [12.18 12.17]\n",
            " [12.72 12.33]\n",
            " [ 9.83  9.67]\n",
            " [12.69 12.67]\n",
            " [16.02 16.17]\n",
            " [14.56 14.5 ]\n",
            " [ 2.77  3.  ]\n",
            " [16.39 16.5 ]\n",
            " [14.9  15.33]\n",
            " [12.83 12.83]\n",
            " [11.4  12.  ]\n",
            " [16.45 16.5 ]\n",
            " [12.22 12.17]\n",
            " [12.51 12.17]\n",
            " [17.62 17.83]\n",
            " [11.93 11.83]\n",
            " [15.55 15.83]\n",
            " [16.22 16.5 ]\n",
            " [11.11 10.83]\n",
            " [13.68 13.67]\n",
            " [ 9.22  9.17]\n",
            " [15.7  15.67]\n",
            " [11.36 11.5 ]\n",
            " [13.23 13.17]\n",
            " [14.34 14.17]\n",
            " [ 4.75  4.5 ]\n",
            " [12.78 12.67]\n",
            " [14.29 14.33]\n",
            " [14.62 14.33]\n",
            " [18.38 18.5 ]\n",
            " [ 3.87  3.83]\n",
            " [13.58 13.67]\n",
            " [ 7.24  7.33]\n",
            " [17.26 17.67]\n",
            " [17.5  17.83]\n",
            " [14.44 14.5 ]\n",
            " [ 6.23  6.5 ]\n",
            " [11.95 11.5 ]\n",
            " [15.68 15.67]\n",
            " [16.59 16.5 ]\n",
            " [13.87 13.67]\n",
            " [16.66 16.67]\n",
            " [17.42 17.5 ]\n",
            " [17.45 18.  ]\n",
            " [11.54 11.33]\n",
            " [12.12 12.  ]\n",
            " [16.4  16.83]\n",
            " [12.41 12.  ]\n",
            " [ 8.52  8.67]\n",
            " [13.55 13.17]\n",
            " [12.96 13.  ]\n",
            " [12.61 12.67]\n",
            " [16.04 16.33]\n",
            " [18.22 18.33]\n",
            " [13.92 13.83]\n",
            " [14.58 14.33]\n",
            " [ 6.12  6.17]\n",
            " [ 8.22  8.67]\n",
            " [12.73 12.5 ]\n",
            " [11.66 11.83]\n",
            " [12.56 12.67]\n",
            " [16.55 16.83]\n",
            " [10.01 10.17]\n",
            " [13.69 13.83]\n",
            " [ 5.08  4.33]\n",
            " [13.72 13.83]\n",
            " [15.89 15.83]\n",
            " [ 6.16  5.83]\n",
            " [13.77 13.5 ]\n",
            " [ 7.27  7.  ]\n",
            " [10.91 11.  ]\n",
            " [12.03 11.83]\n",
            " [11.76 11.83]\n",
            " [12.36 12.33]\n",
            " [12.41 12.33]\n",
            " [14.62 14.5 ]\n",
            " [15.   15.  ]\n",
            " [12.54 12.5 ]\n",
            " [ 3.57  4.  ]\n",
            " [14.28 14.  ]\n",
            " [17.64 17.83]\n",
            " [13.13 13.33]\n",
            " [16.95 17.17]\n",
            " [ 5.47  5.  ]\n",
            " [13.44 13.33]\n",
            " [15.46 15.83]\n",
            " [ 7.48  7.83]\n",
            " [ 9.04  8.5 ]\n",
            " [ 9.68 10.  ]\n",
            " [15.02 14.83]]\n"
          ],
          "name": "stdout"
        }
      ]
    },
    {
      "cell_type": "markdown",
      "metadata": {
        "id": "Cd8VZM5POWXN",
        "colab_type": "text"
      },
      "source": [
        "## Evaluating the Model Performance"
      ]
    },
    {
      "cell_type": "code",
      "metadata": {
        "id": "a7y1rXlfOZJo",
        "colab_type": "code",
        "colab": {
          "base_uri": "https://localhost:8080/",
          "height": 33
        },
        "outputId": "7d766af2-1b9c-4861-ae31-c2c8f92da129"
      },
      "source": [
        "from sklearn.metrics import r2_score\n",
        "r2_score(y_test, y_pred)"
      ],
      "execution_count": 8,
      "outputs": [
        {
          "output_type": "execute_result",
          "data": {
            "text/plain": [
              "0.9954807085428222"
            ]
          },
          "metadata": {
            "tags": []
          },
          "execution_count": 8
        }
      ]
    }
  ]
}
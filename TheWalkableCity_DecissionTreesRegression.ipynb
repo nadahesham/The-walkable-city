{
  "nbformat": 4,
  "nbformat_minor": 0,
  "metadata": {
    "colab": {
      "name": "TheWalkableCity_DecissionTreesRegression.ipynb",
      "provenance": [],
      "collapsed_sections": [],
      "toc_visible": true,
      "include_colab_link": true
    },
    "kernelspec": {
      "name": "python3",
      "display_name": "Python 3"
    }
  },
  "cells": [
    {
      "cell_type": "markdown",
      "metadata": {
        "id": "view-in-github",
        "colab_type": "text"
      },
      "source": [
        "<a href=\"https://colab.research.google.com/github/nadahesham/The-walkable-city/blob/master/TheWalkableCity_DecissionTreesRegression.ipynb\" target=\"_parent\"><img src=\"https://colab.research.google.com/assets/colab-badge.svg\" alt=\"Open In Colab\"/></a>"
      ]
    },
    {
      "cell_type": "markdown",
      "metadata": {
        "id": "r3cas2_1T98w",
        "colab_type": "text"
      },
      "source": [
        "# Decision Tree Regression"
      ]
    },
    {
      "cell_type": "markdown",
      "metadata": {
        "id": "IODliia6U1xO",
        "colab_type": "text"
      },
      "source": [
        "## Importing the libraries"
      ]
    },
    {
      "cell_type": "code",
      "metadata": {
        "id": "y98nA5UdU6Hf",
        "colab_type": "code",
        "colab": {}
      },
      "source": [
        "import numpy as np\n",
        "import matplotlib.pyplot as plt\n",
        "import pandas as pd"
      ],
      "execution_count": null,
      "outputs": []
    },
    {
      "cell_type": "markdown",
      "metadata": {
        "id": "jpjZ43YlU8eI",
        "colab_type": "text"
      },
      "source": [
        "## Importing the dataset"
      ]
    },
    {
      "cell_type": "code",
      "metadata": {
        "id": "pLVaXoYVU_Uy",
        "colab_type": "code",
        "colab": {}
      },
      "source": [
        "dataset = pd.read_csv('EPA_Walkability_Index.csv')\n",
        "X = dataset.iloc[:, 1:-1].values\n",
        "y = dataset.iloc[:, -1].values"
      ],
      "execution_count": null,
      "outputs": []
    },
    {
      "cell_type": "markdown",
      "metadata": {
        "id": "FPOPhxeXaXGd",
        "colab_type": "text"
      },
      "source": [
        "**Encoding independent variables**"
      ]
    },
    {
      "cell_type": "code",
      "metadata": {
        "id": "KR-8fg5Baa_J",
        "colab_type": "code",
        "colab": {}
      },
      "source": [
        "from sklearn.compose import ColumnTransformer\n",
        "from sklearn.preprocessing import OneHotEncoder\n",
        "ct = ColumnTransformer(transformers=[('encoder', OneHotEncoder(), [1])], remainder='passthrough')\n",
        "X = np.array(ct.fit_transform(X))"
      ],
      "execution_count": null,
      "outputs": []
    },
    {
      "cell_type": "markdown",
      "metadata": {
        "id": "tPJXMyyUJbWn",
        "colab_type": "text"
      },
      "source": [
        "## Splitting the dataset into the Training set and Test set"
      ]
    },
    {
      "cell_type": "code",
      "metadata": {
        "id": "rFOzpjaiJd5B",
        "colab_type": "code",
        "colab": {}
      },
      "source": [
        "from sklearn.model_selection import train_test_split\n",
        "X_train, X_test, y_train, y_test = train_test_split(X, y, test_size = 0.2, random_state = 0)"
      ],
      "execution_count": null,
      "outputs": []
    },
    {
      "cell_type": "markdown",
      "metadata": {
        "id": "g16qFkFQVC35",
        "colab_type": "text"
      },
      "source": [
        "## Training the Decision Tree Regression model on the Training set"
      ]
    },
    {
      "cell_type": "code",
      "metadata": {
        "id": "SLDKyv1SVUqS",
        "colab_type": "code",
        "colab": {
          "base_uri": "https://localhost:8080/",
          "height": 118
        },
        "outputId": "8163fcb6-b543-4d43-eb02-6f7f24097ecd"
      },
      "source": [
        "from sklearn.tree import DecisionTreeRegressor\n",
        "regressor = DecisionTreeRegressor(random_state = 0)\n",
        "regressor.fit(X_train, y_train)"
      ],
      "execution_count": null,
      "outputs": [
        {
          "output_type": "execute_result",
          "data": {
            "text/plain": [
              "DecisionTreeRegressor(ccp_alpha=0.0, criterion='mse', max_depth=None,\n",
              "                      max_features=None, max_leaf_nodes=None,\n",
              "                      min_impurity_decrease=0.0, min_impurity_split=None,\n",
              "                      min_samples_leaf=1, min_samples_split=2,\n",
              "                      min_weight_fraction_leaf=0.0, presort='deprecated',\n",
              "                      random_state=0, splitter='best')"
            ]
          },
          "metadata": {
            "tags": []
          },
          "execution_count": 6
        }
      ]
    },
    {
      "cell_type": "markdown",
      "metadata": {
        "id": "Nao9cdO6IgNb",
        "colab_type": "text"
      },
      "source": [
        "## Predicting the Test set results"
      ]
    },
    {
      "cell_type": "code",
      "metadata": {
        "id": "EebHA3EOIkQK",
        "colab_type": "code",
        "colab": {
          "base_uri": "https://localhost:8080/",
          "height": 1000
        },
        "outputId": "74fac4e4-693a-4347-d6d5-d039f6cec618"
      },
      "source": [
        "y_pred = regressor.predict(X_test)\n",
        "np.set_printoptions(precision=2)\n",
        "print(np.concatenate((y_pred.reshape(len(y_pred),1), y_test.reshape(len(y_test),1)),1))"
      ],
      "execution_count": null,
      "outputs": [
        {
          "output_type": "stream",
          "text": [
            "[[ 8.    6.67]\n",
            " [12.67 12.67]\n",
            " [ 9.5  10.83]\n",
            " [15.67 14.33]\n",
            " [14.33 14.5 ]\n",
            " [16.83 17.17]\n",
            " [16.67 17.  ]\n",
            " [ 3.83  5.5 ]\n",
            " [ 5.83  7.5 ]\n",
            " [ 4.5   4.  ]\n",
            " [12.83 13.5 ]\n",
            " [ 6.83  6.5 ]\n",
            " [12.33 11.67]\n",
            " [ 8.5   9.67]\n",
            " [12.33 12.17]\n",
            " [14.   14.5 ]\n",
            " [16.   15.67]\n",
            " [13.33 13.33]\n",
            " [13.33 12.67]\n",
            " [14.83 14.67]\n",
            " [14.   13.33]\n",
            " [12.33 12.33]\n",
            " [11.5  11.33]\n",
            " [ 7.67  7.17]\n",
            " [15.83 16.67]\n",
            " [14.17 13.67]\n",
            " [16.67 16.67]\n",
            " [15.33 14.83]\n",
            " [ 5.    4.5 ]\n",
            " [15.33 15.5 ]\n",
            " [14.5  15.33]\n",
            " [14.5  15.33]\n",
            " [14.   14.67]\n",
            " [13.17 13.17]\n",
            " [12.67 12.67]\n",
            " [13.83 13.5 ]\n",
            " [16.67 16.33]\n",
            " [ 2.33  3.  ]\n",
            " [ 4.83  5.83]\n",
            " [14.   14.5 ]\n",
            " [14.5  13.67]\n",
            " [12.33 13.17]\n",
            " [16.67 16.67]\n",
            " [ 4.5   5.5 ]\n",
            " [12.67 13.83]\n",
            " [ 9.33 10.  ]\n",
            " [14.5  14.83]\n",
            " [16.5  16.67]\n",
            " [16.33 17.33]\n",
            " [ 4.83  5.17]\n",
            " [14.33 14.33]\n",
            " [14.33 14.67]\n",
            " [13.17 13.67]\n",
            " [14.17 13.67]\n",
            " [15.33 16.33]\n",
            " [ 4.17  4.5 ]\n",
            " [10.5  10.  ]\n",
            " [14.5  14.67]\n",
            " [13.5  13.67]\n",
            " [15.33 15.17]\n",
            " [15.17 15.5 ]\n",
            " [15.17 14.67]\n",
            " [ 8.5  10.33]\n",
            " [ 9.17  9.5 ]\n",
            " [10.5  10.83]\n",
            " [10.    9.33]\n",
            " [15.67 15.33]\n",
            " [16.33 16.  ]\n",
            " [ 8.33  8.17]\n",
            " [14.33 14.33]\n",
            " [11.67 11.67]\n",
            " [10.67 12.5 ]\n",
            " [14.5  14.5 ]\n",
            " [12.17 11.5 ]\n",
            " [ 8.33  8.83]\n",
            " [17.   15.83]\n",
            " [13.83 14.  ]\n",
            " [17.   17.  ]\n",
            " [ 7.    7.  ]\n",
            " [11.83 12.  ]\n",
            " [14.67 13.5 ]\n",
            " [13.   12.5 ]\n",
            " [16.67 17.33]\n",
            " [15.   14.67]\n",
            " [14.17 15.33]\n",
            " [15.83 16.  ]\n",
            " [16.33 17.17]\n",
            " [12.67  9.33]\n",
            " [16.33 17.33]\n",
            " [13.   12.  ]\n",
            " [14.33 14.83]\n",
            " [16.5  16.17]\n",
            " [ 9.    8.  ]\n",
            " [ 6.67  6.67]\n",
            " [15.67 14.83]\n",
            " [14.17 13.5 ]\n",
            " [14.17 13.67]\n",
            " [14.17 15.  ]\n",
            " [ 7.    7.  ]\n",
            " [11.17 11.17]\n",
            " [15.67 17.5 ]\n",
            " [15.33 15.17]\n",
            " [15.67 16.  ]\n",
            " [ 5.5   5.67]\n",
            " [14.5  14.83]\n",
            " [15.33 14.67]\n",
            " [ 4.33  5.  ]\n",
            " [ 3.    2.67]\n",
            " [ 8.17  9.5 ]\n",
            " [17.   16.17]\n",
            " [12.83 13.17]\n",
            " [14.5  14.17]\n",
            " [10.83 10.83]\n",
            " [ 6.17  6.67]\n",
            " [16.   15.83]\n",
            " [15.33 15.67]\n",
            " [16.17 16.  ]\n",
            " [16.   16.67]\n",
            " [16.83 17.67]\n",
            " [14.83 15.5 ]\n",
            " [13.17 12.5 ]\n",
            " [13.17 14.33]\n",
            " [ 6.67 10.67]\n",
            " [13.5  13.17]\n",
            " [15.33 15.5 ]\n",
            " [ 7.33  7.83]\n",
            " [11.5  12.  ]\n",
            " [14.67 13.  ]\n",
            " [ 9.5  10.83]\n",
            " [14.83 13.83]\n",
            " [17.   16.33]\n",
            " [16.67 16.83]\n",
            " [16.17 16.  ]\n",
            " [13.   12.67]\n",
            " [15.5  15.83]\n",
            " [14.   14.  ]\n",
            " [14.17 13.67]\n",
            " [13.83 12.67]\n",
            " [ 8.17 10.33]\n",
            " [14.   14.17]\n",
            " [13.   13.83]\n",
            " [ 4.5   4.5 ]\n",
            " [16.   15.17]\n",
            " [14.83 15.33]\n",
            " [15.83 16.17]\n",
            " [14.67 15.67]\n",
            " [16.33 16.83]\n",
            " [10.5  10.83]\n",
            " [13.17 12.83]\n",
            " [10.83 11.  ]\n",
            " [16.33 15.17]\n",
            " [16.   15.67]\n",
            " [11.5  11.33]\n",
            " [13.   13.5 ]\n",
            " [ 7.17  5.83]\n",
            " [15.33 15.67]\n",
            " [14.17 14.67]\n",
            " [ 2.33  1.67]\n",
            " [11.83 11.33]\n",
            " [15.   15.17]\n",
            " [13.5  13.  ]\n",
            " [16.   16.  ]\n",
            " [12.83 11.83]\n",
            " [17.33 17.5 ]\n",
            " [ 5.17  5.  ]\n",
            " [12.33 12.5 ]\n",
            " [11.67 12.17]\n",
            " [13.   12.33]\n",
            " [10.5   9.67]\n",
            " [12.67 12.67]\n",
            " [15.83 16.17]\n",
            " [14.33 14.5 ]\n",
            " [ 2.33  3.  ]\n",
            " [16.   16.5 ]\n",
            " [13.83 15.33]\n",
            " [12.67 12.83]\n",
            " [ 9.17 12.  ]\n",
            " [15.83 16.5 ]\n",
            " [12.17 12.17]\n",
            " [13.   12.17]\n",
            " [16.67 17.83]\n",
            " [12.   11.83]\n",
            " [14.67 15.83]\n",
            " [15.67 16.5 ]\n",
            " [11.67 10.83]\n",
            " [13.67 13.67]\n",
            " [ 8.17  9.17]\n",
            " [15.17 15.67]\n",
            " [11.17 11.5 ]\n",
            " [13.17 13.17]\n",
            " [14.67 14.17]\n",
            " [ 5.83  4.5 ]\n",
            " [12.33 12.67]\n",
            " [13.5  14.33]\n",
            " [13.83 14.33]\n",
            " [17.83 18.5 ]\n",
            " [ 4.17  3.83]\n",
            " [13.83 13.67]\n",
            " [ 7.33  7.33]\n",
            " [17.   17.67]\n",
            " [17.5  17.83]\n",
            " [15.   14.5 ]\n",
            " [ 6.67  6.5 ]\n",
            " [10.67 11.5 ]\n",
            " [15.   15.67]\n",
            " [17.   16.5 ]\n",
            " [13.   13.67]\n",
            " [17.67 16.67]\n",
            " [17.17 17.5 ]\n",
            " [18.   18.  ]\n",
            " [11.83 11.33]\n",
            " [12.   12.  ]\n",
            " [17.   16.83]\n",
            " [13.   12.  ]\n",
            " [ 8.17  8.67]\n",
            " [13.67 13.17]\n",
            " [12.33 13.  ]\n",
            " [12.17 12.67]\n",
            " [16.33 16.33]\n",
            " [18.   18.33]\n",
            " [14.17 13.83]\n",
            " [13.5  14.33]\n",
            " [ 5.83  6.17]\n",
            " [ 8.33  8.67]\n",
            " [12.67 12.5 ]\n",
            " [11.5  11.83]\n",
            " [13.5  12.67]\n",
            " [17.33 16.83]\n",
            " [10.33 10.17]\n",
            " [14.   13.83]\n",
            " [ 3.83  4.33]\n",
            " [14.33 13.83]\n",
            " [16.33 15.83]\n",
            " [ 6.    5.83]\n",
            " [13.83 13.5 ]\n",
            " [ 7.83  7.  ]\n",
            " [10.67 11.  ]\n",
            " [11.83 11.83]\n",
            " [12.33 11.83]\n",
            " [12.67 12.33]\n",
            " [12.   12.33]\n",
            " [14.33 14.5 ]\n",
            " [15.67 15.  ]\n",
            " [13.17 12.5 ]\n",
            " [ 3.5   4.  ]\n",
            " [13.67 14.  ]\n",
            " [19.5  17.83]\n",
            " [12.83 13.33]\n",
            " [15.83 17.17]\n",
            " [ 6.33  5.  ]\n",
            " [13.   13.33]\n",
            " [16.33 15.83]\n",
            " [ 6.83  7.83]\n",
            " [ 8.17  8.5 ]\n",
            " [10.83 10.  ]\n",
            " [15.17 14.83]]\n"
          ],
          "name": "stdout"
        }
      ]
    },
    {
      "cell_type": "markdown",
      "metadata": {
        "id": "V4nELFnnIod1",
        "colab_type": "text"
      },
      "source": [
        "## Evaluating the Model Performance"
      ]
    },
    {
      "cell_type": "code",
      "metadata": {
        "id": "_G2QS1UoIsTZ",
        "colab_type": "code",
        "colab": {
          "base_uri": "https://localhost:8080/",
          "height": 34
        },
        "outputId": "31e1eda4-d925-4919-bf56-6becd1d18f71"
      },
      "source": [
        "from sklearn.metrics import r2_score\n",
        "r2_score(y_test, y_pred)"
      ],
      "execution_count": null,
      "outputs": [
        {
          "output_type": "execute_result",
          "data": {
            "text/plain": [
              "0.9359354458178347"
            ]
          },
          "metadata": {
            "tags": []
          },
          "execution_count": 11
        }
      ]
    },
    {
      "cell_type": "code",
      "metadata": {
        "id": "fcczT0M464LV",
        "colab_type": "code",
        "colab": {}
      },
      "source": [
        ""
      ],
      "execution_count": null,
      "outputs": []
    }
  ]
}
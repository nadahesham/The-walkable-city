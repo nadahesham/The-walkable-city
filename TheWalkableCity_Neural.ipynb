{
  "nbformat": 4,
  "nbformat_minor": 0,
  "metadata": {
    "colab": {
      "name": "TheWalkableCity_Neural.ipynb",
      "provenance": [],
      "collapsed_sections": [],
      "include_colab_link": true
    },
    "kernelspec": {
      "name": "python3",
      "display_name": "Python 3"
    }
  },
  "cells": [
    {
      "cell_type": "markdown",
      "metadata": {
        "id": "view-in-github",
        "colab_type": "text"
      },
      "source": [
        "<a href=\"https://colab.research.google.com/github/nadahesham/The-walkable-city/blob/master/TheWalkableCity_Neural.ipynb\" target=\"_parent\"><img src=\"https://colab.research.google.com/assets/colab-badge.svg\" alt=\"Open In Colab\"/></a>"
      ]
    },
    {
      "cell_type": "markdown",
      "metadata": {
        "id": "lP6JLo1tGNBg",
        "colab_type": "text"
      },
      "source": [
        "# Artificial Neural Network"
      ]
    },
    {
      "cell_type": "markdown",
      "metadata": {
        "id": "gWZyYmS_UE_L",
        "colab_type": "text"
      },
      "source": [
        "### Importing the libraries"
      ]
    },
    {
      "cell_type": "code",
      "metadata": {
        "id": "MxkJoQBkUIHC",
        "colab_type": "code",
        "colab": {}
      },
      "source": [
        "import numpy as np\n",
        "import pandas as pd\n",
        "import tensorflow as tf"
      ],
      "execution_count": 1,
      "outputs": []
    },
    {
      "cell_type": "code",
      "metadata": {
        "id": "ZaTwK7ojXr2F",
        "colab_type": "code",
        "colab": {
          "base_uri": "https://localhost:8080/",
          "height": 35
        },
        "outputId": "e25c2106-391d-4791-c31d-44d30b23db97"
      },
      "source": [
        "tf.__version__"
      ],
      "execution_count": 2,
      "outputs": [
        {
          "output_type": "execute_result",
          "data": {
            "application/vnd.google.colaboratory.intrinsic": {
              "type": "string"
            },
            "text/plain": [
              "'2.2.0'"
            ]
          },
          "metadata": {
            "tags": []
          },
          "execution_count": 2
        }
      ]
    },
    {
      "cell_type": "markdown",
      "metadata": {
        "id": "1E0Q3aoKUCRX",
        "colab_type": "text"
      },
      "source": [
        "## Part 1 - Data Preprocessing"
      ]
    },
    {
      "cell_type": "markdown",
      "metadata": {
        "id": "cKWAkFVGUU0Z",
        "colab_type": "text"
      },
      "source": [
        "### Importing the dataset"
      ]
    },
    {
      "cell_type": "code",
      "metadata": {
        "id": "MXUkhkMfU4wq",
        "colab_type": "code",
        "colab": {}
      },
      "source": [
        "df = pd.read_csv('EPA_Walkability_Index.csv' , encoding = 'ISO-8859-1')\n",
        "X = df.iloc[:, :-1]\n",
        "y = df.iloc[:, -1]\n",
        "\n"
      ],
      "execution_count": 3,
      "outputs": []
    },
    {
      "cell_type": "markdown",
      "metadata": {
        "id": "CUxGZezpbMcb",
        "colab_type": "text"
      },
      "source": [
        "One Hot Encoding the string column"
      ]
    },
    {
      "cell_type": "code",
      "metadata": {
        "id": "AMXC8-KMVirw",
        "colab_type": "code",
        "colab": {}
      },
      "source": [
        "from sklearn.compose import ColumnTransformer\n",
        "from sklearn.preprocessing import OneHotEncoder\n",
        "ct = ColumnTransformer(transformers=[('encoder', OneHotEncoder(), [2])], remainder='passthrough')\n",
        "X = np.array(ct.fit_transform(X))"
      ],
      "execution_count": 4,
      "outputs": []
    },
    {
      "cell_type": "code",
      "metadata": {
        "id": "ZcxwEon-b8nV",
        "colab_type": "code",
        "colab": {
          "base_uri": "https://localhost:8080/",
          "height": 234
        },
        "outputId": "85f758cc-e81b-43ce-806f-ecbff8605e90"
      },
      "source": [
        "print(X)"
      ],
      "execution_count": 5,
      "outputs": [
        {
          "output_type": "stream",
          "text": [
            "[[ 1.00000000e+00  0.00000000e+00  0.00000000e+00 ... -9.99990000e+04\n",
            "   3.20929857e+04  2.53861178e+07]\n",
            " [ 1.00000000e+00  0.00000000e+00  0.00000000e+00 ...  1.06252528e+03\n",
            "   6.23513297e+04  1.06198778e+08]\n",
            " [ 1.00000000e+00  0.00000000e+00  0.00000000e+00 ...  4.68037420e+02\n",
            "   3.79129430e+04  1.62698151e+07]\n",
            " ...\n",
            " [ 0.00000000e+00  1.00000000e+00  0.00000000e+00 ...  4.81318459e+02\n",
            "   9.84930716e+03  2.66100856e+06]\n",
            " [ 0.00000000e+00  1.00000000e+00  0.00000000e+00 ...  3.60464303e+02\n",
            "   6.53650094e+03  1.84426451e+06]\n",
            " [ 0.00000000e+00  0.00000000e+00  0.00000000e+00 ... -9.99990000e+04\n",
            "   1.03408670e+03  1.54246484e+03]]\n"
          ],
          "name": "stdout"
        }
      ]
    },
    {
      "cell_type": "markdown",
      "metadata": {
        "id": "vHol938cW8zd",
        "colab_type": "text"
      },
      "source": [
        "### Splitting the dataset into the Training set and Test set"
      ]
    },
    {
      "cell_type": "code",
      "metadata": {
        "id": "Z-TDt0Y_XEfc",
        "colab_type": "code",
        "colab": {}
      },
      "source": [
        "from sklearn.model_selection import train_test_split\n",
        "X_train, X_test, y_train, y_test = train_test_split(X, y, test_size = 0.2, random_state = 0)"
      ],
      "execution_count": 6,
      "outputs": []
    },
    {
      "cell_type": "markdown",
      "metadata": {
        "id": "RE_FcHyfV3TQ",
        "colab_type": "text"
      },
      "source": [
        "### Feature Scaling"
      ]
    },
    {
      "cell_type": "code",
      "metadata": {
        "id": "ViCrE00rV8Sk",
        "colab_type": "code",
        "colab": {}
      },
      "source": [
        "from sklearn.preprocessing import StandardScaler\n",
        "sc = StandardScaler()\n",
        "X_train = sc.fit_transform(X_train)\n",
        "X_test = sc.transform(X_test)"
      ],
      "execution_count": 7,
      "outputs": []
    },
    {
      "cell_type": "markdown",
      "metadata": {
        "id": "-zfEzkRVXIwF",
        "colab_type": "text"
      },
      "source": [
        "## Part 2 - Building the ANN"
      ]
    },
    {
      "cell_type": "markdown",
      "metadata": {
        "id": "KvdeScabXtlB",
        "colab_type": "text"
      },
      "source": [
        "### Initializing the ANN"
      ]
    },
    {
      "cell_type": "code",
      "metadata": {
        "id": "3dtrScHxXQox",
        "colab_type": "code",
        "colab": {}
      },
      "source": [
        "ann = tf.keras.models.Sequential()"
      ],
      "execution_count": 8,
      "outputs": []
    },
    {
      "cell_type": "markdown",
      "metadata": {
        "id": "rP6urV6SX7kS",
        "colab_type": "text"
      },
      "source": [
        "### Adding the input layer and the first hidden layer"
      ]
    },
    {
      "cell_type": "code",
      "metadata": {
        "id": "bppGycBXYCQr",
        "colab_type": "code",
        "colab": {}
      },
      "source": [
        "ann.add(tf.keras.layers.Dense(units=16, activation='sigmoid'))"
      ],
      "execution_count": 9,
      "outputs": []
    },
    {
      "cell_type": "markdown",
      "metadata": {
        "id": "BELWAc_8YJze",
        "colab_type": "text"
      },
      "source": [
        "### Adding the second hidden layer"
      ]
    },
    {
      "cell_type": "code",
      "metadata": {
        "id": "JneR0u0sYRTd",
        "colab_type": "code",
        "colab": {}
      },
      "source": [
        "ann.add(tf.keras.layers.Dense(units=10, activation='sigmoid'))\n",
        "ann.add(tf.keras.layers.Dense(units=15, activation='relu'))\n",
        "ann.add(tf.keras.layers.Dense(units=11, activation='relu'))\n",
        "ann.add(tf.keras.layers.Dense(units=14, activation='relu'))\n",
        "ann.add(tf.keras.layers.Dense(units=10, activation='relu'))"
      ],
      "execution_count": 10,
      "outputs": []
    },
    {
      "cell_type": "markdown",
      "metadata": {
        "id": "OyNEe6RXYcU4",
        "colab_type": "text"
      },
      "source": [
        "### Adding the output layer"
      ]
    },
    {
      "cell_type": "code",
      "metadata": {
        "id": "Cn3x41RBYfvY",
        "colab_type": "code",
        "colab": {}
      },
      "source": [
        "ann.add(tf.keras.layers.Dense(units=1))\n"
      ],
      "execution_count": 11,
      "outputs": []
    },
    {
      "cell_type": "markdown",
      "metadata": {
        "id": "JT4u2S1_Y4WG",
        "colab_type": "text"
      },
      "source": [
        "## Part 3 - Training the ANN"
      ]
    },
    {
      "cell_type": "code",
      "metadata": {
        "id": "BFeQn_A3UqRd",
        "colab_type": "code",
        "colab": {}
      },
      "source": [
        ""
      ],
      "execution_count": 11,
      "outputs": []
    },
    {
      "cell_type": "markdown",
      "metadata": {
        "id": "8GWlJChhY_ZI",
        "colab_type": "text"
      },
      "source": [
        "### Compiling the ANN"
      ]
    },
    {
      "cell_type": "code",
      "metadata": {
        "id": "fG3RrwDXZEaS",
        "colab_type": "code",
        "colab": {}
      },
      "source": [
        "ann.compile(optimizer = 'adam', loss = 'mean_squared_error', metrics = ['accuracy'])"
      ],
      "execution_count": 12,
      "outputs": []
    },
    {
      "cell_type": "markdown",
      "metadata": {
        "id": "0QR_G5u7ZLSM",
        "colab_type": "text"
      },
      "source": [
        "### Training the ANN on the Training set"
      ]
    },
    {
      "cell_type": "code",
      "metadata": {
        "id": "nHZ-LKv_ZRb3",
        "colab_type": "code",
        "colab": {
          "base_uri": "https://localhost:8080/",
          "height": 1000
        },
        "outputId": "ce30a727-d076-4c07-9274-97a43e32f0d6"
      },
      "source": [
        "ann.fit(X_train, y_train, batch_size = 150, epochs = 100)"
      ],
      "execution_count": 13,
      "outputs": [
        {
          "output_type": "stream",
          "text": [
            "Epoch 1/100\n",
            "7/7 [==============================] - 0s 2ms/step - loss: 170.5759 - accuracy: 0.0000e+00\n",
            "Epoch 2/100\n",
            "7/7 [==============================] - 0s 2ms/step - loss: 168.0510 - accuracy: 0.0000e+00\n",
            "Epoch 3/100\n",
            "7/7 [==============================] - 0s 2ms/step - loss: 165.2292 - accuracy: 0.0000e+00\n",
            "Epoch 4/100\n",
            "7/7 [==============================] - 0s 2ms/step - loss: 162.0396 - accuracy: 0.0000e+00\n",
            "Epoch 5/100\n",
            "7/7 [==============================] - 0s 2ms/step - loss: 157.9567 - accuracy: 0.0000e+00\n",
            "Epoch 6/100\n",
            "7/7 [==============================] - 0s 2ms/step - loss: 152.5723 - accuracy: 9.7656e-04\n",
            "Epoch 7/100\n",
            "7/7 [==============================] - 0s 2ms/step - loss: 145.8044 - accuracy: 9.7656e-04\n",
            "Epoch 8/100\n",
            "7/7 [==============================] - 0s 2ms/step - loss: 137.3200 - accuracy: 9.7656e-04\n",
            "Epoch 9/100\n",
            "7/7 [==============================] - 0s 2ms/step - loss: 126.7516 - accuracy: 9.7656e-04\n",
            "Epoch 10/100\n",
            "7/7 [==============================] - 0s 2ms/step - loss: 113.6609 - accuracy: 9.7656e-04\n",
            "Epoch 11/100\n",
            "7/7 [==============================] - 0s 2ms/step - loss: 97.7357 - accuracy: 9.7656e-04\n",
            "Epoch 12/100\n",
            "7/7 [==============================] - 0s 2ms/step - loss: 79.6718 - accuracy: 9.7656e-04\n",
            "Epoch 13/100\n",
            "7/7 [==============================] - 0s 2ms/step - loss: 60.2006 - accuracy: 9.7656e-04\n",
            "Epoch 14/100\n",
            "7/7 [==============================] - 0s 2ms/step - loss: 40.9564 - accuracy: 9.7656e-04\n",
            "Epoch 15/100\n",
            "7/7 [==============================] - 0s 2ms/step - loss: 24.9936 - accuracy: 9.7656e-04\n",
            "Epoch 16/100\n",
            "7/7 [==============================] - 0s 2ms/step - loss: 14.9376 - accuracy: 9.7656e-04\n",
            "Epoch 17/100\n",
            "7/7 [==============================] - 0s 2ms/step - loss: 11.2404 - accuracy: 9.7656e-04\n",
            "Epoch 18/100\n",
            "7/7 [==============================] - 0s 3ms/step - loss: 11.0687 - accuracy: 9.7656e-04\n",
            "Epoch 19/100\n",
            "7/7 [==============================] - 0s 2ms/step - loss: 10.9418 - accuracy: 9.7656e-04\n",
            "Epoch 20/100\n",
            "7/7 [==============================] - 0s 2ms/step - loss: 10.1572 - accuracy: 9.7656e-04\n",
            "Epoch 21/100\n",
            "7/7 [==============================] - 0s 2ms/step - loss: 9.5753 - accuracy: 9.7656e-04\n",
            "Epoch 22/100\n",
            "7/7 [==============================] - 0s 2ms/step - loss: 9.2632 - accuracy: 9.7656e-04\n",
            "Epoch 23/100\n",
            "7/7 [==============================] - 0s 2ms/step - loss: 8.9848 - accuracy: 9.7656e-04\n",
            "Epoch 24/100\n",
            "7/7 [==============================] - 0s 2ms/step - loss: 8.6822 - accuracy: 9.7656e-04\n",
            "Epoch 25/100\n",
            "7/7 [==============================] - 0s 2ms/step - loss: 8.3957 - accuracy: 9.7656e-04\n",
            "Epoch 26/100\n",
            "7/7 [==============================] - 0s 2ms/step - loss: 8.1239 - accuracy: 9.7656e-04\n",
            "Epoch 27/100\n",
            "7/7 [==============================] - 0s 2ms/step - loss: 7.8663 - accuracy: 9.7656e-04\n",
            "Epoch 28/100\n",
            "7/7 [==============================] - 0s 2ms/step - loss: 7.5998 - accuracy: 9.7656e-04\n",
            "Epoch 29/100\n",
            "7/7 [==============================] - 0s 2ms/step - loss: 7.2594 - accuracy: 9.7656e-04\n",
            "Epoch 30/100\n",
            "7/7 [==============================] - 0s 2ms/step - loss: 6.7361 - accuracy: 9.7656e-04\n",
            "Epoch 31/100\n",
            "7/7 [==============================] - 0s 2ms/step - loss: 6.3853 - accuracy: 9.7656e-04\n",
            "Epoch 32/100\n",
            "7/7 [==============================] - 0s 2ms/step - loss: 6.0545 - accuracy: 9.7656e-04\n",
            "Epoch 33/100\n",
            "7/7 [==============================] - 0s 2ms/step - loss: 5.7117 - accuracy: 9.7656e-04\n",
            "Epoch 34/100\n",
            "7/7 [==============================] - 0s 2ms/step - loss: 5.3667 - accuracy: 9.7656e-04\n",
            "Epoch 35/100\n",
            "7/7 [==============================] - 0s 2ms/step - loss: 5.0174 - accuracy: 9.7656e-04\n",
            "Epoch 36/100\n",
            "7/7 [==============================] - 0s 2ms/step - loss: 4.6785 - accuracy: 9.7656e-04\n",
            "Epoch 37/100\n",
            "7/7 [==============================] - 0s 2ms/step - loss: 4.3237 - accuracy: 9.7656e-04\n",
            "Epoch 38/100\n",
            "7/7 [==============================] - 0s 2ms/step - loss: 3.9792 - accuracy: 9.7656e-04\n",
            "Epoch 39/100\n",
            "7/7 [==============================] - 0s 2ms/step - loss: 3.6309 - accuracy: 9.7656e-04\n",
            "Epoch 40/100\n",
            "7/7 [==============================] - 0s 2ms/step - loss: 3.2971 - accuracy: 9.7656e-04\n",
            "Epoch 41/100\n",
            "7/7 [==============================] - 0s 2ms/step - loss: 2.9691 - accuracy: 9.7656e-04\n",
            "Epoch 42/100\n",
            "7/7 [==============================] - 0s 2ms/step - loss: 2.6719 - accuracy: 9.7656e-04\n",
            "Epoch 43/100\n",
            "7/7 [==============================] - 0s 2ms/step - loss: 2.3883 - accuracy: 9.7656e-04\n",
            "Epoch 44/100\n",
            "7/7 [==============================] - 0s 2ms/step - loss: 2.1272 - accuracy: 9.7656e-04\n",
            "Epoch 45/100\n",
            "7/7 [==============================] - 0s 2ms/step - loss: 1.8978 - accuracy: 9.7656e-04\n",
            "Epoch 46/100\n",
            "7/7 [==============================] - 0s 2ms/step - loss: 1.6850 - accuracy: 9.7656e-04\n",
            "Epoch 47/100\n",
            "7/7 [==============================] - 0s 2ms/step - loss: 1.5090 - accuracy: 9.7656e-04\n",
            "Epoch 48/100\n",
            "7/7 [==============================] - 0s 2ms/step - loss: 1.3631 - accuracy: 9.7656e-04\n",
            "Epoch 49/100\n",
            "7/7 [==============================] - 0s 2ms/step - loss: 1.2376 - accuracy: 9.7656e-04\n",
            "Epoch 50/100\n",
            "7/7 [==============================] - 0s 2ms/step - loss: 1.1414 - accuracy: 9.7656e-04\n",
            "Epoch 51/100\n",
            "7/7 [==============================] - 0s 2ms/step - loss: 1.0680 - accuracy: 9.7656e-04\n",
            "Epoch 52/100\n",
            "7/7 [==============================] - 0s 2ms/step - loss: 1.0008 - accuracy: 9.7656e-04\n",
            "Epoch 53/100\n",
            "7/7 [==============================] - 0s 2ms/step - loss: 0.9486 - accuracy: 9.7656e-04\n",
            "Epoch 54/100\n",
            "7/7 [==============================] - 0s 2ms/step - loss: 0.8945 - accuracy: 9.7656e-04\n",
            "Epoch 55/100\n",
            "7/7 [==============================] - 0s 2ms/step - loss: 0.8562 - accuracy: 9.7656e-04\n",
            "Epoch 56/100\n",
            "7/7 [==============================] - 0s 2ms/step - loss: 0.8230 - accuracy: 9.7656e-04\n",
            "Epoch 57/100\n",
            "7/7 [==============================] - 0s 2ms/step - loss: 0.7919 - accuracy: 9.7656e-04\n",
            "Epoch 58/100\n",
            "7/7 [==============================] - 0s 2ms/step - loss: 0.7646 - accuracy: 9.7656e-04\n",
            "Epoch 59/100\n",
            "7/7 [==============================] - 0s 2ms/step - loss: 0.7392 - accuracy: 9.7656e-04\n",
            "Epoch 60/100\n",
            "7/7 [==============================] - 0s 2ms/step - loss: 0.7170 - accuracy: 9.7656e-04\n",
            "Epoch 61/100\n",
            "7/7 [==============================] - 0s 2ms/step - loss: 0.6928 - accuracy: 9.7656e-04\n",
            "Epoch 62/100\n",
            "7/7 [==============================] - 0s 3ms/step - loss: 0.6754 - accuracy: 9.7656e-04\n",
            "Epoch 63/100\n",
            "7/7 [==============================] - 0s 2ms/step - loss: 0.6602 - accuracy: 9.7656e-04\n",
            "Epoch 64/100\n",
            "7/7 [==============================] - 0s 2ms/step - loss: 0.6464 - accuracy: 9.7656e-04\n",
            "Epoch 65/100\n",
            "7/7 [==============================] - 0s 2ms/step - loss: 0.6335 - accuracy: 9.7656e-04\n",
            "Epoch 66/100\n",
            "7/7 [==============================] - 0s 2ms/step - loss: 0.6228 - accuracy: 9.7656e-04\n",
            "Epoch 67/100\n",
            "7/7 [==============================] - 0s 2ms/step - loss: 0.6116 - accuracy: 9.7656e-04\n",
            "Epoch 68/100\n",
            "7/7 [==============================] - 0s 2ms/step - loss: 0.6016 - accuracy: 9.7656e-04\n",
            "Epoch 69/100\n",
            "7/7 [==============================] - 0s 3ms/step - loss: 0.5924 - accuracy: 9.7656e-04\n",
            "Epoch 70/100\n",
            "7/7 [==============================] - 0s 2ms/step - loss: 0.5844 - accuracy: 9.7656e-04\n",
            "Epoch 71/100\n",
            "7/7 [==============================] - 0s 2ms/step - loss: 0.5759 - accuracy: 9.7656e-04\n",
            "Epoch 72/100\n",
            "7/7 [==============================] - 0s 2ms/step - loss: 0.5686 - accuracy: 9.7656e-04\n",
            "Epoch 73/100\n",
            "7/7 [==============================] - 0s 2ms/step - loss: 0.5593 - accuracy: 9.7656e-04\n",
            "Epoch 74/100\n",
            "7/7 [==============================] - 0s 2ms/step - loss: 0.5528 - accuracy: 9.7656e-04\n",
            "Epoch 75/100\n",
            "7/7 [==============================] - 0s 2ms/step - loss: 0.5452 - accuracy: 9.7656e-04\n",
            "Epoch 76/100\n",
            "7/7 [==============================] - 0s 2ms/step - loss: 0.5388 - accuracy: 9.7656e-04\n",
            "Epoch 77/100\n",
            "7/7 [==============================] - 0s 2ms/step - loss: 0.5323 - accuracy: 9.7656e-04\n",
            "Epoch 78/100\n",
            "7/7 [==============================] - 0s 3ms/step - loss: 0.5270 - accuracy: 9.7656e-04\n",
            "Epoch 79/100\n",
            "7/7 [==============================] - 0s 2ms/step - loss: 0.5216 - accuracy: 9.7656e-04\n",
            "Epoch 80/100\n",
            "7/7 [==============================] - 0s 2ms/step - loss: 0.5143 - accuracy: 9.7656e-04\n",
            "Epoch 81/100\n",
            "7/7 [==============================] - 0s 2ms/step - loss: 0.5069 - accuracy: 9.7656e-04\n",
            "Epoch 82/100\n",
            "7/7 [==============================] - 0s 2ms/step - loss: 0.5039 - accuracy: 9.7656e-04\n",
            "Epoch 83/100\n",
            "7/7 [==============================] - 0s 2ms/step - loss: 0.4979 - accuracy: 9.7656e-04\n",
            "Epoch 84/100\n",
            "7/7 [==============================] - 0s 2ms/step - loss: 0.4914 - accuracy: 9.7656e-04\n",
            "Epoch 85/100\n",
            "7/7 [==============================] - 0s 2ms/step - loss: 0.4842 - accuracy: 9.7656e-04\n",
            "Epoch 86/100\n",
            "7/7 [==============================] - 0s 2ms/step - loss: 0.4796 - accuracy: 9.7656e-04\n",
            "Epoch 87/100\n",
            "7/7 [==============================] - 0s 2ms/step - loss: 0.4749 - accuracy: 9.7656e-04\n",
            "Epoch 88/100\n",
            "7/7 [==============================] - 0s 2ms/step - loss: 0.4691 - accuracy: 9.7656e-04\n",
            "Epoch 89/100\n",
            "7/7 [==============================] - 0s 2ms/step - loss: 0.4633 - accuracy: 9.7656e-04\n",
            "Epoch 90/100\n",
            "7/7 [==============================] - 0s 2ms/step - loss: 0.4595 - accuracy: 9.7656e-04\n",
            "Epoch 91/100\n",
            "7/7 [==============================] - 0s 2ms/step - loss: 0.4544 - accuracy: 9.7656e-04\n",
            "Epoch 92/100\n",
            "7/7 [==============================] - 0s 2ms/step - loss: 0.4501 - accuracy: 9.7656e-04\n",
            "Epoch 93/100\n",
            "7/7 [==============================] - 0s 2ms/step - loss: 0.4451 - accuracy: 9.7656e-04\n",
            "Epoch 94/100\n",
            "7/7 [==============================] - 0s 2ms/step - loss: 0.4428 - accuracy: 9.7656e-04\n",
            "Epoch 95/100\n",
            "7/7 [==============================] - 0s 2ms/step - loss: 0.4373 - accuracy: 9.7656e-04\n",
            "Epoch 96/100\n",
            "7/7 [==============================] - 0s 2ms/step - loss: 0.4342 - accuracy: 9.7656e-04\n",
            "Epoch 97/100\n",
            "7/7 [==============================] - 0s 2ms/step - loss: 0.4300 - accuracy: 9.7656e-04\n",
            "Epoch 98/100\n",
            "7/7 [==============================] - 0s 2ms/step - loss: 0.4261 - accuracy: 9.7656e-04\n",
            "Epoch 99/100\n",
            "7/7 [==============================] - 0s 2ms/step - loss: 0.4241 - accuracy: 9.7656e-04\n",
            "Epoch 100/100\n",
            "7/7 [==============================] - 0s 2ms/step - loss: 0.4214 - accuracy: 9.7656e-04\n"
          ],
          "name": "stdout"
        },
        {
          "output_type": "execute_result",
          "data": {
            "text/plain": [
              "<tensorflow.python.keras.callbacks.History at 0x7f5d9501c5c0>"
            ]
          },
          "metadata": {
            "tags": []
          },
          "execution_count": 13
        }
      ]
    },
    {
      "cell_type": "markdown",
      "metadata": {
        "id": "u7yx47jPZt11",
        "colab_type": "text"
      },
      "source": [
        "### Predicting the Test set results"
      ]
    },
    {
      "cell_type": "code",
      "metadata": {
        "id": "nIyEeQdRZwgs",
        "colab_type": "code",
        "colab": {
          "base_uri": "https://localhost:8080/",
          "height": 1000
        },
        "outputId": "0fd382d5-d98d-4c5b-f274-9f0094cb8466"
      },
      "source": [
        "y_pred = ann.predict(X_test)\n",
        "np.set_printoptions(precision=2)\n",
        "#print(np.array(y_test).reshape(len(y_test),1))\n",
        "#print(np.concatenate((y_pred.reshape(len(y_pred),1), np.array(y_test).reshape(len(y_test),1),1))\n",
        "#print(np.concatenate((y_pred.reshape(len(y_pred),1), y_test.reshape(len(y_test),1)),1))\n",
        "print(np.concatenate((y_pred.reshape(len(y_pred),1), np.array(y_test).reshape(len(y_test),1)),1))"
      ],
      "execution_count": 14,
      "outputs": [
        {
          "output_type": "stream",
          "text": [
            "[[ 5.97  6.67]\n",
            " [10.82 12.67]\n",
            " [11.07 10.83]\n",
            " [15.33 14.33]\n",
            " [15.23 14.5 ]\n",
            " [16.6  17.17]\n",
            " [17.24 17.  ]\n",
            " [ 5.27  5.5 ]\n",
            " [ 6.48  7.5 ]\n",
            " [ 4.33  4.  ]\n",
            " [14.03 13.5 ]\n",
            " [ 7.71  6.5 ]\n",
            " [12.13 11.67]\n",
            " [ 9.94  9.67]\n",
            " [11.   12.17]\n",
            " [14.88 14.5 ]\n",
            " [15.72 15.67]\n",
            " [13.86 13.33]\n",
            " [13.97 12.67]\n",
            " [15.4  14.67]\n",
            " [14.09 13.33]\n",
            " [12.54 12.33]\n",
            " [11.22 11.33]\n",
            " [ 6.91  7.17]\n",
            " [16.08 16.67]\n",
            " [13.98 13.67]\n",
            " [16.13 16.67]\n",
            " [14.83 14.83]\n",
            " [ 5.04  4.5 ]\n",
            " [15.01 15.5 ]\n",
            " [15.03 15.33]\n",
            " [15.04 15.33]\n",
            " [14.28 14.67]\n",
            " [13.98 13.17]\n",
            " [11.73 12.67]\n",
            " [13.96 13.5 ]\n",
            " [16.18 16.33]\n",
            " [ 3.93  3.  ]\n",
            " [ 5.27  5.83]\n",
            " [14.6  14.5 ]\n",
            " [13.89 13.67]\n",
            " [13.29 13.17]\n",
            " [16.05 16.67]\n",
            " [ 5.53  5.5 ]\n",
            " [13.85 13.83]\n",
            " [ 9.93 10.  ]\n",
            " [14.81 14.83]\n",
            " [16.16 16.67]\n",
            " [16.43 17.33]\n",
            " [ 5.11  5.17]\n",
            " [15.08 14.33]\n",
            " [14.15 14.67]\n",
            " [14.4  13.67]\n",
            " [13.2  13.67]\n",
            " [15.49 16.33]\n",
            " [ 4.54  4.5 ]\n",
            " [ 9.16 10.  ]\n",
            " [15.49 14.67]\n",
            " [14.6  13.67]\n",
            " [15.46 15.17]\n",
            " [15.23 15.5 ]\n",
            " [14.85 14.67]\n",
            " [ 9.51 10.33]\n",
            " [ 8.87  9.5 ]\n",
            " [10.26 10.83]\n",
            " [ 9.26  9.33]\n",
            " [15.71 15.33]\n",
            " [16.26 16.  ]\n",
            " [ 7.93  8.17]\n",
            " [15.1  14.33]\n",
            " [12.16 11.67]\n",
            " [13.23 12.5 ]\n",
            " [14.37 14.5 ]\n",
            " [12.3  11.5 ]\n",
            " [ 8.4   8.83]\n",
            " [15.45 15.83]\n",
            " [13.13 14.  ]\n",
            " [16.74 17.  ]\n",
            " [ 6.31  7.  ]\n",
            " [12.49 12.  ]\n",
            " [13.76 13.5 ]\n",
            " [12.67 12.5 ]\n",
            " [16.52 17.33]\n",
            " [14.25 14.67]\n",
            " [15.45 15.33]\n",
            " [16.19 16.  ]\n",
            " [16.65 17.17]\n",
            " [ 8.14  9.33]\n",
            " [17.02 17.33]\n",
            " [13.17 12.  ]\n",
            " [15.44 14.83]\n",
            " [15.89 16.17]\n",
            " [ 8.06  8.  ]\n",
            " [ 6.41  6.67]\n",
            " [15.21 14.83]\n",
            " [14.21 13.5 ]\n",
            " [14.61 13.67]\n",
            " [15.23 15.  ]\n",
            " [ 6.85  7.  ]\n",
            " [11.66 11.17]\n",
            " [16.67 17.5 ]\n",
            " [15.52 15.17]\n",
            " [15.03 16.  ]\n",
            " [ 5.34  5.67]\n",
            " [14.52 14.83]\n",
            " [15.12 14.67]\n",
            " [ 4.79  5.  ]\n",
            " [ 3.84  2.67]\n",
            " [ 9.64  9.5 ]\n",
            " [15.75 16.17]\n",
            " [13.19 13.17]\n",
            " [14.42 14.17]\n",
            " [10.7  10.83]\n",
            " [ 6.2   6.67]\n",
            " [15.6  15.83]\n",
            " [15.49 15.67]\n",
            " [15.17 16.  ]\n",
            " [16.01 16.67]\n",
            " [16.65 17.67]\n",
            " [15.74 15.5 ]\n",
            " [13.67 12.5 ]\n",
            " [14.42 14.33]\n",
            " [11.51 10.67]\n",
            " [13.88 13.17]\n",
            " [15.83 15.5 ]\n",
            " [ 7.47  7.83]\n",
            " [12.85 12.  ]\n",
            " [13.15 13.  ]\n",
            " [11.64 10.83]\n",
            " [15.   13.83]\n",
            " [16.27 16.33]\n",
            " [16.71 16.83]\n",
            " [15.91 16.  ]\n",
            " [13.49 12.67]\n",
            " [15.16 15.83]\n",
            " [15.05 14.  ]\n",
            " [14.87 13.67]\n",
            " [13.65 12.67]\n",
            " [10.38 10.33]\n",
            " [15.15 14.17]\n",
            " [14.27 13.83]\n",
            " [ 4.46  4.5 ]\n",
            " [13.59 15.17]\n",
            " [16.01 15.33]\n",
            " [16.31 16.17]\n",
            " [15.17 15.67]\n",
            " [16.38 16.83]\n",
            " [ 9.77 10.83]\n",
            " [12.93 12.83]\n",
            " [11.22 11.  ]\n",
            " [16.09 15.17]\n",
            " [15.38 15.67]\n",
            " [12.62 11.33]\n",
            " [14.07 13.5 ]\n",
            " [ 3.96  5.83]\n",
            " [15.56 15.67]\n",
            " [14.52 14.67]\n",
            " [ 4.12  1.67]\n",
            " [10.65 11.33]\n",
            " [14.93 15.17]\n",
            " [14.06 13.  ]\n",
            " [15.6  16.  ]\n",
            " [11.33 11.83]\n",
            " [15.95 17.5 ]\n",
            " [ 5.01  5.  ]\n",
            " [12.4  12.5 ]\n",
            " [11.85 12.17]\n",
            " [13.68 12.33]\n",
            " [ 9.36  9.67]\n",
            " [12.44 12.67]\n",
            " [16.16 16.17]\n",
            " [14.5  14.5 ]\n",
            " [ 4.06  3.  ]\n",
            " [15.35 16.5 ]\n",
            " [14.46 15.33]\n",
            " [13.39 12.83]\n",
            " [12.1  12.  ]\n",
            " [16.44 16.5 ]\n",
            " [11.93 12.17]\n",
            " [13.34 12.17]\n",
            " [17.01 17.83]\n",
            " [12.52 11.83]\n",
            " [15.42 15.83]\n",
            " [16.54 16.5 ]\n",
            " [10.6  10.83]\n",
            " [14.06 13.67]\n",
            " [ 9.01  9.17]\n",
            " [15.68 15.67]\n",
            " [12.32 11.5 ]\n",
            " [13.97 13.17]\n",
            " [14.99 14.17]\n",
            " [ 4.65  4.5 ]\n",
            " [12.97 12.67]\n",
            " [14.47 14.33]\n",
            " [15.17 14.33]\n",
            " [16.83 18.5 ]\n",
            " [ 4.25  3.83]\n",
            " [14.36 13.67]\n",
            " [ 7.23  7.33]\n",
            " [16.31 17.67]\n",
            " [16.01 17.83]\n",
            " [15.01 14.5 ]\n",
            " [ 6.08  6.5 ]\n",
            " [ 9.71 11.5 ]\n",
            " [15.87 15.67]\n",
            " [15.91 16.5 ]\n",
            " [14.73 13.67]\n",
            " [16.19 16.67]\n",
            " [16.07 17.5 ]\n",
            " [16.87 18.  ]\n",
            " [11.67 11.33]\n",
            " [11.63 12.  ]\n",
            " [16.32 16.83]\n",
            " [12.99 12.  ]\n",
            " [ 8.42  8.67]\n",
            " [14.08 13.17]\n",
            " [13.14 13.  ]\n",
            " [13.86 12.67]\n",
            " [17.21 16.33]\n",
            " [17.   18.33]\n",
            " [14.13 13.83]\n",
            " [15.23 14.33]\n",
            " [ 6.42  6.17]\n",
            " [ 8.08  8.67]\n",
            " [12.91 12.5 ]\n",
            " [11.95 11.83]\n",
            " [13.32 12.67]\n",
            " [15.94 16.83]\n",
            " [10.53 10.17]\n",
            " [12.85 13.83]\n",
            " [ 4.58  4.33]\n",
            " [13.67 13.83]\n",
            " [15.91 15.83]\n",
            " [ 5.6   5.83]\n",
            " [13.81 13.5 ]\n",
            " [ 6.69  7.  ]\n",
            " [11.26 11.  ]\n",
            " [12.92 11.83]\n",
            " [12.15 11.83]\n",
            " [12.74 12.33]\n",
            " [13.03 12.33]\n",
            " [15.21 14.5 ]\n",
            " [15.75 15.  ]\n",
            " [13.3  12.5 ]\n",
            " [ 4.45  4.  ]\n",
            " [15.02 14.  ]\n",
            " [16.92 17.83]\n",
            " [13.27 13.33]\n",
            " [17.17 17.17]\n",
            " [ 5.21  5.  ]\n",
            " [14.27 13.33]\n",
            " [14.79 15.83]\n",
            " [ 7.24  7.83]\n",
            " [ 8.28  8.5 ]\n",
            " [10.06 10.  ]\n",
            " [15.22 14.83]]\n"
          ],
          "name": "stdout"
        }
      ]
    },
    {
      "cell_type": "markdown",
      "metadata": {
        "id": "o0oyfLWoaEGw",
        "colab_type": "text"
      },
      "source": [
        "### Making the Confusion Matrix"
      ]
    },
    {
      "cell_type": "code",
      "metadata": {
        "id": "ci6K_r6LaF6P",
        "colab_type": "code",
        "colab": {
          "base_uri": "https://localhost:8080/",
          "height": 33
        },
        "outputId": "fbba535b-d9a7-485e-cb54-7e6f518bbe0a"
      },
      "source": [
        "from sklearn.metrics import r2_score\n",
        "\n",
        "r2_score(y_test, y_pred)"
      ],
      "execution_count": 15,
      "outputs": [
        {
          "output_type": "execute_result",
          "data": {
            "text/plain": [
              "0.9642193322099767"
            ]
          },
          "metadata": {
            "tags": []
          },
          "execution_count": 15
        }
      ]
    },
    {
      "cell_type": "code",
      "metadata": {
        "id": "VZw0USIq_Vl0",
        "colab_type": "code",
        "colab": {}
      },
      "source": [
        ""
      ],
      "execution_count": 15,
      "outputs": []
    }
  ]
}
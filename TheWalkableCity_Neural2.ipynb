{
  "nbformat": 4,
  "nbformat_minor": 0,
  "metadata": {
    "colab": {
      "name": "TheWalkableCity_Neural2.ipynb",
      "provenance": [],
      "collapsed_sections": [],
      "include_colab_link": true
    },
    "kernelspec": {
      "name": "python3",
      "display_name": "Python 3"
    }
  },
  "cells": [
    {
      "cell_type": "markdown",
      "metadata": {
        "id": "view-in-github",
        "colab_type": "text"
      },
      "source": [
        "<a href=\"https://colab.research.google.com/github/nadahesham/The-walkable-city/blob/master/TheWalkableCity_Neural2.ipynb\" target=\"_parent\"><img src=\"https://colab.research.google.com/assets/colab-badge.svg\" alt=\"Open In Colab\"/></a>"
      ]
    },
    {
      "cell_type": "markdown",
      "metadata": {
        "id": "lP6JLo1tGNBg",
        "colab_type": "text"
      },
      "source": [
        "# Artificial Neural Network"
      ]
    },
    {
      "cell_type": "markdown",
      "metadata": {
        "id": "gWZyYmS_UE_L",
        "colab_type": "text"
      },
      "source": [
        "### Importing the libraries"
      ]
    },
    {
      "cell_type": "code",
      "metadata": {
        "id": "MxkJoQBkUIHC",
        "colab_type": "code",
        "colab": {}
      },
      "source": [
        "import numpy as np\n",
        "import pandas as pd\n",
        "import tensorflow as tf"
      ],
      "execution_count": null,
      "outputs": []
    },
    {
      "cell_type": "code",
      "metadata": {
        "id": "ZaTwK7ojXr2F",
        "colab_type": "code",
        "colab": {
          "base_uri": "https://localhost:8080/",
          "height": 35
        },
        "outputId": "505fed8e-9f1b-466f-fd0c-e466b0553e19"
      },
      "source": [
        "tf.__version__"
      ],
      "execution_count": null,
      "outputs": [
        {
          "output_type": "execute_result",
          "data": {
            "application/vnd.google.colaboratory.intrinsic": {
              "type": "string"
            },
            "text/plain": [
              "'2.2.0'"
            ]
          },
          "metadata": {
            "tags": []
          },
          "execution_count": 2
        }
      ]
    },
    {
      "cell_type": "markdown",
      "metadata": {
        "id": "1E0Q3aoKUCRX",
        "colab_type": "text"
      },
      "source": [
        "## Part 1 - Data Preprocessing"
      ]
    },
    {
      "cell_type": "markdown",
      "metadata": {
        "id": "cKWAkFVGUU0Z",
        "colab_type": "text"
      },
      "source": [
        "### Importing the dataset"
      ]
    },
    {
      "cell_type": "code",
      "metadata": {
        "id": "MXUkhkMfU4wq",
        "colab_type": "code",
        "colab": {}
      },
      "source": [
        "dataset = pd.read_csv('Book1 (2).csv')\n",
        "X = dataset.iloc[:, :14].values\n",
        "y = dataset.iloc[:, -1].values\n"
      ],
      "execution_count": null,
      "outputs": []
    },
    {
      "cell_type": "markdown",
      "metadata": {
        "id": "CUxGZezpbMcb",
        "colab_type": "text"
      },
      "source": [
        "One Hot Encoding the string column"
      ]
    },
    {
      "cell_type": "code",
      "metadata": {
        "id": "AMXC8-KMVirw",
        "colab_type": "code",
        "colab": {}
      },
      "source": [
        "#from sklearn.compose import ColumnTransformer\n",
        "#from sklearn.preprocessing import OneHotEncoder\n",
        "#ct = ColumnTransformer(transformers=[('encoder', OneHotEncoder(), [2])], remainder='passthrough')\n",
        "#X = np.array(ct.fit_transform(X))"
      ],
      "execution_count": null,
      "outputs": []
    },
    {
      "cell_type": "code",
      "metadata": {
        "id": "ZcxwEon-b8nV",
        "colab_type": "code",
        "colab": {}
      },
      "source": [
        "#print(X)"
      ],
      "execution_count": null,
      "outputs": []
    },
    {
      "cell_type": "markdown",
      "metadata": {
        "id": "vHol938cW8zd",
        "colab_type": "text"
      },
      "source": [
        "### Splitting the dataset into the Training set and Test set"
      ]
    },
    {
      "cell_type": "code",
      "metadata": {
        "id": "Z-TDt0Y_XEfc",
        "colab_type": "code",
        "colab": {}
      },
      "source": [
        "from sklearn.model_selection import train_test_split\n",
        "X_train, X_test, y_train, y_test = train_test_split(X, y, test_size = 0.2, random_state = 0)"
      ],
      "execution_count": null,
      "outputs": []
    },
    {
      "cell_type": "markdown",
      "metadata": {
        "id": "RE_FcHyfV3TQ",
        "colab_type": "text"
      },
      "source": [
        "### Feature Scaling"
      ]
    },
    {
      "cell_type": "code",
      "metadata": {
        "id": "ViCrE00rV8Sk",
        "colab_type": "code",
        "colab": {}
      },
      "source": [
        "from sklearn.preprocessing import StandardScaler\n",
        "sc = StandardScaler()\n",
        "X_train = sc.fit_transform(X_train)\n",
        "X_test = sc.transform(X_test)"
      ],
      "execution_count": null,
      "outputs": []
    },
    {
      "cell_type": "markdown",
      "metadata": {
        "id": "-zfEzkRVXIwF",
        "colab_type": "text"
      },
      "source": [
        "## Part 2 - Building the ANN"
      ]
    },
    {
      "cell_type": "markdown",
      "metadata": {
        "id": "KvdeScabXtlB",
        "colab_type": "text"
      },
      "source": [
        "### Initializing the ANN"
      ]
    },
    {
      "cell_type": "code",
      "metadata": {
        "id": "3dtrScHxXQox",
        "colab_type": "code",
        "colab": {}
      },
      "source": [
        "ann = tf.keras.models.Sequential()"
      ],
      "execution_count": null,
      "outputs": []
    },
    {
      "cell_type": "markdown",
      "metadata": {
        "id": "rP6urV6SX7kS",
        "colab_type": "text"
      },
      "source": [
        "### Adding the input layer and the first hidden layer"
      ]
    },
    {
      "cell_type": "code",
      "metadata": {
        "id": "bppGycBXYCQr",
        "colab_type": "code",
        "colab": {}
      },
      "source": [
        "ann.add(tf.keras.layers.Dense(units=18, activation='relu'))"
      ],
      "execution_count": null,
      "outputs": []
    },
    {
      "cell_type": "markdown",
      "metadata": {
        "id": "BELWAc_8YJze",
        "colab_type": "text"
      },
      "source": [
        "### Adding the second hidden layer"
      ]
    },
    {
      "cell_type": "code",
      "metadata": {
        "id": "JneR0u0sYRTd",
        "colab_type": "code",
        "colab": {}
      },
      "source": [
        "ann.add(tf.keras.layers.Dense(units=500, activation='relu'))\n",
        "ann.add(tf.keras.layers.Dense(units=40, activation='relu'))\n",
        "ann.add(tf.keras.layers.Dense(units=250, activation='relu'))\n",
        "ann.add(tf.keras.layers.Dense(units=150, activation='relu'))\n",
        "ann.add(tf.keras.layers.Dense(units=100, activation='relu'))\n",
        "ann.add(tf.keras.layers.Dense(units=75, activation='relu'))"
      ],
      "execution_count": null,
      "outputs": []
    },
    {
      "cell_type": "markdown",
      "metadata": {
        "id": "0IX815TIU-7T",
        "colab_type": "text"
      },
      "source": [
        ""
      ]
    },
    {
      "cell_type": "markdown",
      "metadata": {
        "id": "OyNEe6RXYcU4",
        "colab_type": "text"
      },
      "source": [
        "### Adding the output layer"
      ]
    },
    {
      "cell_type": "code",
      "metadata": {
        "id": "Cn3x41RBYfvY",
        "colab_type": "code",
        "colab": {}
      },
      "source": [
        "ann.add(tf.keras.layers.Dense(units=1))\n"
      ],
      "execution_count": null,
      "outputs": []
    },
    {
      "cell_type": "markdown",
      "metadata": {
        "id": "JT4u2S1_Y4WG",
        "colab_type": "text"
      },
      "source": [
        "## Part 3 - Training the ANN"
      ]
    },
    {
      "cell_type": "markdown",
      "metadata": {
        "id": "8GWlJChhY_ZI",
        "colab_type": "text"
      },
      "source": [
        "### Compiling the ANN"
      ]
    },
    {
      "cell_type": "code",
      "metadata": {
        "id": "fG3RrwDXZEaS",
        "colab_type": "code",
        "colab": {}
      },
      "source": [
        "ann.compile(optimizer = 'adam', loss = 'mean_squared_error', metrics = ['accuracy'])"
      ],
      "execution_count": null,
      "outputs": []
    },
    {
      "cell_type": "markdown",
      "metadata": {
        "id": "0QR_G5u7ZLSM",
        "colab_type": "text"
      },
      "source": [
        "### Training the ANN on the Training set"
      ]
    },
    {
      "cell_type": "code",
      "metadata": {
        "id": "nHZ-LKv_ZRb3",
        "colab_type": "code",
        "colab": {
          "base_uri": "https://localhost:8080/",
          "height": 1000
        },
        "outputId": "bbc85f50-d364-48de-85d6-e2a159c01d2d"
      },
      "source": [
        "ann.fit(X_train, y_train, batch_size = 150, epochs = 100)"
      ],
      "execution_count": null,
      "outputs": [
        {
          "output_type": "stream",
          "text": [
            "Epoch 1/100\n",
            "728/728 [==============================] - 5s 6ms/step - loss: 3.1594 - accuracy: 0.0030\n",
            "Epoch 2/100\n",
            "728/728 [==============================] - 4s 6ms/step - loss: 0.1925 - accuracy: 0.0031\n",
            "Epoch 3/100\n",
            "728/728 [==============================] - 5s 6ms/step - loss: 0.1806 - accuracy: 0.0031\n",
            "Epoch 4/100\n",
            "728/728 [==============================] - 5s 6ms/step - loss: 0.1703 - accuracy: 0.0031\n",
            "Epoch 5/100\n",
            "728/728 [==============================] - 5s 6ms/step - loss: 0.1639 - accuracy: 0.0031\n",
            "Epoch 6/100\n",
            "728/728 [==============================] - 5s 6ms/step - loss: 0.1629 - accuracy: 0.0031\n",
            "Epoch 7/100\n",
            "728/728 [==============================] - 5s 6ms/step - loss: 0.1567 - accuracy: 0.0031\n",
            "Epoch 8/100\n",
            "728/728 [==============================] - 4s 6ms/step - loss: 0.1542 - accuracy: 0.0031\n",
            "Epoch 9/100\n",
            "728/728 [==============================] - 4s 6ms/step - loss: 0.1520 - accuracy: 0.0031\n",
            "Epoch 10/100\n",
            "728/728 [==============================] - 4s 6ms/step - loss: 0.1478 - accuracy: 0.0031\n",
            "Epoch 11/100\n",
            "728/728 [==============================] - 4s 6ms/step - loss: 0.1482 - accuracy: 0.0031\n",
            "Epoch 12/100\n",
            "728/728 [==============================] - 5s 6ms/step - loss: 0.1459 - accuracy: 0.0031\n",
            "Epoch 13/100\n",
            "728/728 [==============================] - 4s 6ms/step - loss: 0.1449 - accuracy: 0.0031\n",
            "Epoch 14/100\n",
            "728/728 [==============================] - 4s 6ms/step - loss: 0.1416 - accuracy: 0.0031\n",
            "Epoch 15/100\n",
            "728/728 [==============================] - 4s 6ms/step - loss: 0.1428 - accuracy: 0.0031\n",
            "Epoch 16/100\n",
            "728/728 [==============================] - 4s 6ms/step - loss: 0.1396 - accuracy: 0.0031\n",
            "Epoch 17/100\n",
            "728/728 [==============================] - 4s 6ms/step - loss: 0.1431 - accuracy: 0.0031\n",
            "Epoch 18/100\n",
            "728/728 [==============================] - 4s 6ms/step - loss: 0.1397 - accuracy: 0.0031\n",
            "Epoch 19/100\n",
            "728/728 [==============================] - 4s 6ms/step - loss: 0.1375 - accuracy: 0.0031\n",
            "Epoch 20/100\n",
            "728/728 [==============================] - 4s 6ms/step - loss: 0.1373 - accuracy: 0.0031\n",
            "Epoch 21/100\n",
            "728/728 [==============================] - 4s 6ms/step - loss: 0.1359 - accuracy: 0.0031\n",
            "Epoch 22/100\n",
            "728/728 [==============================] - 4s 6ms/step - loss: 0.1341 - accuracy: 0.0031\n",
            "Epoch 23/100\n",
            "728/728 [==============================] - 4s 6ms/step - loss: 0.1337 - accuracy: 0.0031\n",
            "Epoch 24/100\n",
            "728/728 [==============================] - 4s 6ms/step - loss: 0.1336 - accuracy: 0.0031\n",
            "Epoch 25/100\n",
            "728/728 [==============================] - 4s 6ms/step - loss: 0.1306 - accuracy: 0.0031\n",
            "Epoch 26/100\n",
            "728/728 [==============================] - 4s 6ms/step - loss: 0.1309 - accuracy: 0.0031\n",
            "Epoch 27/100\n",
            "728/728 [==============================] - 4s 6ms/step - loss: 0.1317 - accuracy: 0.0031\n",
            "Epoch 28/100\n",
            "728/728 [==============================] - 4s 6ms/step - loss: 0.1283 - accuracy: 0.0031\n",
            "Epoch 29/100\n",
            "728/728 [==============================] - 4s 6ms/step - loss: 0.1279 - accuracy: 0.0031\n",
            "Epoch 30/100\n",
            "728/728 [==============================] - 4s 6ms/step - loss: 0.1295 - accuracy: 0.0031\n",
            "Epoch 31/100\n",
            "728/728 [==============================] - 4s 6ms/step - loss: 0.1267 - accuracy: 0.0031\n",
            "Epoch 32/100\n",
            "728/728 [==============================] - 4s 6ms/step - loss: 0.1270 - accuracy: 0.0031\n",
            "Epoch 33/100\n",
            "728/728 [==============================] - 4s 6ms/step - loss: 0.1274 - accuracy: 0.0031\n",
            "Epoch 34/100\n",
            "728/728 [==============================] - 4s 6ms/step - loss: 0.1270 - accuracy: 0.0031\n",
            "Epoch 35/100\n",
            "728/728 [==============================] - 5s 7ms/step - loss: 0.1255 - accuracy: 0.0031\n",
            "Epoch 36/100\n",
            "728/728 [==============================] - 5s 6ms/step - loss: 0.1256 - accuracy: 0.0031\n",
            "Epoch 37/100\n",
            "728/728 [==============================] - 5s 7ms/step - loss: 0.1244 - accuracy: 0.0031\n",
            "Epoch 38/100\n",
            "728/728 [==============================] - 5s 7ms/step - loss: 0.1246 - accuracy: 0.0031\n",
            "Epoch 39/100\n",
            "728/728 [==============================] - 5s 7ms/step - loss: 0.1243 - accuracy: 0.0031\n",
            "Epoch 40/100\n",
            "728/728 [==============================] - 5s 7ms/step - loss: 0.1235 - accuracy: 0.0031\n",
            "Epoch 41/100\n",
            "728/728 [==============================] - 5s 6ms/step - loss: 0.1232 - accuracy: 0.0031\n",
            "Epoch 42/100\n",
            "728/728 [==============================] - 4s 6ms/step - loss: 0.1227 - accuracy: 0.0031\n",
            "Epoch 43/100\n",
            "728/728 [==============================] - 4s 6ms/step - loss: 0.1228 - accuracy: 0.0031\n",
            "Epoch 44/100\n",
            "728/728 [==============================] - 4s 6ms/step - loss: 0.1230 - accuracy: 0.0031\n",
            "Epoch 45/100\n",
            "728/728 [==============================] - 4s 6ms/step - loss: 0.1226 - accuracy: 0.0031\n",
            "Epoch 46/100\n",
            "728/728 [==============================] - 4s 6ms/step - loss: 0.1207 - accuracy: 0.0031\n",
            "Epoch 47/100\n",
            "728/728 [==============================] - 4s 6ms/step - loss: 0.1192 - accuracy: 0.0031\n",
            "Epoch 48/100\n",
            "728/728 [==============================] - 4s 6ms/step - loss: 0.1208 - accuracy: 0.0031\n",
            "Epoch 49/100\n",
            "728/728 [==============================] - 4s 6ms/step - loss: 0.1217 - accuracy: 0.0031\n",
            "Epoch 50/100\n",
            "728/728 [==============================] - 4s 6ms/step - loss: 0.1179 - accuracy: 0.0031\n",
            "Epoch 51/100\n",
            "728/728 [==============================] - 4s 6ms/step - loss: 0.1192 - accuracy: 0.0031\n",
            "Epoch 52/100\n",
            "728/728 [==============================] - 5s 6ms/step - loss: 0.1177 - accuracy: 0.0031\n",
            "Epoch 53/100\n",
            "728/728 [==============================] - 5s 6ms/step - loss: 0.1177 - accuracy: 0.0031\n",
            "Epoch 54/100\n",
            "728/728 [==============================] - 4s 6ms/step - loss: 0.1161 - accuracy: 0.0031\n",
            "Epoch 55/100\n",
            "728/728 [==============================] - 4s 6ms/step - loss: 0.1167 - accuracy: 0.0031\n",
            "Epoch 56/100\n",
            "728/728 [==============================] - 4s 6ms/step - loss: 0.1148 - accuracy: 0.0031\n",
            "Epoch 57/100\n",
            "728/728 [==============================] - 4s 6ms/step - loss: 0.1160 - accuracy: 0.0031\n",
            "Epoch 58/100\n",
            "728/728 [==============================] - 4s 6ms/step - loss: 0.1165 - accuracy: 0.0031\n",
            "Epoch 59/100\n",
            "728/728 [==============================] - 4s 6ms/step - loss: 0.1129 - accuracy: 0.0031\n",
            "Epoch 60/100\n",
            "728/728 [==============================] - 4s 6ms/step - loss: 0.1113 - accuracy: 0.0031\n",
            "Epoch 61/100\n",
            "728/728 [==============================] - 4s 6ms/step - loss: 0.1088 - accuracy: 0.0031\n",
            "Epoch 62/100\n",
            "728/728 [==============================] - 4s 6ms/step - loss: 0.1085 - accuracy: 0.0031\n",
            "Epoch 63/100\n",
            "728/728 [==============================] - 4s 6ms/step - loss: 0.1054 - accuracy: 0.0031\n",
            "Epoch 64/100\n",
            "728/728 [==============================] - 4s 6ms/step - loss: 0.1034 - accuracy: 0.0031\n",
            "Epoch 65/100\n",
            "728/728 [==============================] - 4s 6ms/step - loss: 0.1013 - accuracy: 0.0031\n",
            "Epoch 66/100\n",
            "728/728 [==============================] - 4s 6ms/step - loss: 0.0920 - accuracy: 0.0031\n",
            "Epoch 67/100\n",
            "728/728 [==============================] - 4s 6ms/step - loss: 0.0841 - accuracy: 0.0031\n",
            "Epoch 68/100\n",
            "728/728 [==============================] - 4s 6ms/step - loss: 0.0704 - accuracy: 0.0031\n",
            "Epoch 69/100\n",
            "728/728 [==============================] - 5s 6ms/step - loss: 0.0543 - accuracy: 0.0031\n",
            "Epoch 70/100\n",
            "728/728 [==============================] - 4s 6ms/step - loss: 0.0451 - accuracy: 0.0031\n",
            "Epoch 71/100\n",
            "728/728 [==============================] - 4s 6ms/step - loss: 0.0354 - accuracy: 0.0031\n",
            "Epoch 72/100\n",
            "728/728 [==============================] - 4s 6ms/step - loss: 0.0309 - accuracy: 0.0031\n",
            "Epoch 73/100\n",
            "728/728 [==============================] - 4s 6ms/step - loss: 0.0328 - accuracy: 0.0031\n",
            "Epoch 74/100\n",
            "728/728 [==============================] - 4s 6ms/step - loss: 0.0290 - accuracy: 0.0031\n",
            "Epoch 75/100\n",
            "728/728 [==============================] - 4s 6ms/step - loss: 0.0267 - accuracy: 0.0031\n",
            "Epoch 76/100\n",
            "728/728 [==============================] - 4s 6ms/step - loss: 0.0238 - accuracy: 0.0031\n",
            "Epoch 77/100\n",
            "728/728 [==============================] - 5s 6ms/step - loss: 0.0234 - accuracy: 0.0031\n",
            "Epoch 78/100\n",
            "728/728 [==============================] - 4s 6ms/step - loss: 0.0209 - accuracy: 0.0031\n",
            "Epoch 79/100\n",
            "728/728 [==============================] - 5s 6ms/step - loss: 0.0218 - accuracy: 0.0031\n",
            "Epoch 80/100\n",
            "728/728 [==============================] - 5s 6ms/step - loss: 0.0211 - accuracy: 0.0031\n",
            "Epoch 81/100\n",
            "728/728 [==============================] - 5s 6ms/step - loss: 0.0207 - accuracy: 0.0031\n",
            "Epoch 82/100\n",
            "728/728 [==============================] - 4s 6ms/step - loss: 0.0207 - accuracy: 0.0031\n",
            "Epoch 83/100\n",
            "728/728 [==============================] - 4s 6ms/step - loss: 0.0200 - accuracy: 0.0031\n",
            "Epoch 84/100\n",
            "728/728 [==============================] - 4s 6ms/step - loss: 0.0224 - accuracy: 0.0031\n",
            "Epoch 85/100\n",
            "728/728 [==============================] - 4s 6ms/step - loss: 0.0192 - accuracy: 0.0031\n",
            "Epoch 86/100\n",
            "728/728 [==============================] - 4s 6ms/step - loss: 0.0192 - accuracy: 0.0031\n",
            "Epoch 87/100\n",
            "728/728 [==============================] - 5s 6ms/step - loss: 0.0187 - accuracy: 0.0031\n",
            "Epoch 88/100\n",
            "728/728 [==============================] - 4s 6ms/step - loss: 0.0187 - accuracy: 0.0031\n",
            "Epoch 89/100\n",
            "728/728 [==============================] - 5s 6ms/step - loss: 0.0195 - accuracy: 0.0031\n",
            "Epoch 90/100\n",
            "728/728 [==============================] - 4s 6ms/step - loss: 0.0204 - accuracy: 0.0031\n",
            "Epoch 91/100\n",
            "728/728 [==============================] - 4s 6ms/step - loss: 0.0196 - accuracy: 0.0031\n",
            "Epoch 92/100\n",
            "728/728 [==============================] - 5s 6ms/step - loss: 0.0195 - accuracy: 0.0031\n",
            "Epoch 93/100\n",
            "728/728 [==============================] - 4s 6ms/step - loss: 0.0152 - accuracy: 0.0031\n",
            "Epoch 94/100\n",
            "728/728 [==============================] - 4s 6ms/step - loss: 0.0224 - accuracy: 0.0031\n",
            "Epoch 95/100\n",
            "728/728 [==============================] - 4s 6ms/step - loss: 0.0189 - accuracy: 0.0031\n",
            "Epoch 96/100\n",
            "728/728 [==============================] - 4s 6ms/step - loss: 0.0189 - accuracy: 0.0031\n",
            "Epoch 97/100\n",
            "728/728 [==============================] - 4s 6ms/step - loss: 0.0202 - accuracy: 0.0031\n",
            "Epoch 98/100\n",
            "728/728 [==============================] - 4s 6ms/step - loss: 0.0184 - accuracy: 0.0031\n",
            "Epoch 99/100\n",
            "728/728 [==============================] - 4s 6ms/step - loss: 0.0182 - accuracy: 0.0031\n",
            "Epoch 100/100\n",
            "728/728 [==============================] - 4s 6ms/step - loss: 0.0181 - accuracy: 0.0031\n"
          ],
          "name": "stdout"
        },
        {
          "output_type": "execute_result",
          "data": {
            "text/plain": [
              "<tensorflow.python.keras.callbacks.History at 0x7f1749328ba8>"
            ]
          },
          "metadata": {
            "tags": []
          },
          "execution_count": 13
        }
      ]
    },
    {
      "cell_type": "markdown",
      "metadata": {
        "id": "u7yx47jPZt11",
        "colab_type": "text"
      },
      "source": [
        "### Predicting the Test set results"
      ]
    },
    {
      "cell_type": "code",
      "metadata": {
        "id": "nIyEeQdRZwgs",
        "colab_type": "code",
        "colab": {
          "base_uri": "https://localhost:8080/",
          "height": 134
        },
        "outputId": "7b472a12-eb87-4fc8-f9c0-0ac569230a95"
      },
      "source": [
        "y_pred = ann.predict(X_test)\n",
        "np.set_printoptions(precision=2)\n",
        "#print(np.array(y_test).reshape(len(y_test),1))\n",
        "#print(np.concatenate((y_pred.reshape(len(y_pred),1), np.array(y_test).reshape(len(y_test),1),1))\n",
        "#print(np.concatenate((y_pred.reshape(len(y_pred),1), y_test.reshape(len(y_test),1)),1))\n",
        "print(np.concatenate((y_pred.reshape(len(y_pred),1), np.array(y_test).reshape(len(y_test),1)),1))"
      ],
      "execution_count": null,
      "outputs": [
        {
          "output_type": "stream",
          "text": [
            "[[ 6.01  6.  ]\n",
            " [11.64 11.67]\n",
            " [ 5.5   5.5 ]\n",
            " ...\n",
            " [16.51 16.  ]\n",
            " [10.66 10.67]\n",
            " [15.34 15.17]]\n"
          ],
          "name": "stdout"
        }
      ]
    },
    {
      "cell_type": "markdown",
      "metadata": {
        "id": "o0oyfLWoaEGw",
        "colab_type": "text"
      },
      "source": [
        "### Making the Confusion Matrix"
      ]
    },
    {
      "cell_type": "code",
      "metadata": {
        "id": "ci6K_r6LaF6P",
        "colab_type": "code",
        "colab": {
          "base_uri": "https://localhost:8080/",
          "height": 34
        },
        "outputId": "36f00467-10d6-406d-d623-4caa01ff4b3c"
      },
      "source": [
        "from sklearn.metrics import r2_score\n",
        "\n",
        "r2_score(y_test, y_pred)"
      ],
      "execution_count": null,
      "outputs": [
        {
          "output_type": "execute_result",
          "data": {
            "text/plain": [
              "0.9990223349983443"
            ]
          },
          "metadata": {
            "tags": []
          },
          "execution_count": 15
        }
      ]
    },
    {
      "cell_type": "code",
      "metadata": {
        "id": "VZw0USIq_Vl0",
        "colab_type": "code",
        "colab": {}
      },
      "source": [
        ""
      ],
      "execution_count": null,
      "outputs": []
    }
  ]
}
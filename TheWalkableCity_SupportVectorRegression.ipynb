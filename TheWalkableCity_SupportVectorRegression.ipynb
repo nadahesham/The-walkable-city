{
  "nbformat": 4,
  "nbformat_minor": 0,
  "metadata": {
    "colab": {
      "name": "TheWalkableCity_SupportVectorRegression.ipynb",
      "provenance": [],
      "collapsed_sections": [],
      "toc_visible": true,
      "include_colab_link": true
    },
    "kernelspec": {
      "name": "python3",
      "display_name": "Python 3"
    }
  },
  "cells": [
    {
      "cell_type": "markdown",
      "metadata": {
        "id": "view-in-github",
        "colab_type": "text"
      },
      "source": [
        "<a href=\"https://colab.research.google.com/github/nadahesham/The-walkable-city/blob/master/TheWalkableCity_SupportVectorRegression.ipynb\" target=\"_parent\"><img src=\"https://colab.research.google.com/assets/colab-badge.svg\" alt=\"Open In Colab\"/></a>"
      ]
    },
    {
      "cell_type": "markdown",
      "metadata": {
        "id": "m3PAEPRDRLA3",
        "colab_type": "text"
      },
      "source": [
        "# Support Vector Regression (SVR)"
      ]
    },
    {
      "cell_type": "markdown",
      "metadata": {
        "id": "0VCUAVIjRdzZ",
        "colab_type": "text"
      },
      "source": [
        "## Importing the libraries"
      ]
    },
    {
      "cell_type": "code",
      "metadata": {
        "id": "56oRF-QfSDzC",
        "colab_type": "code",
        "colab": {}
      },
      "source": [
        "import numpy as np\n",
        "import matplotlib.pyplot as plt\n",
        "import pandas as pd"
      ],
      "execution_count": null,
      "outputs": []
    },
    {
      "cell_type": "markdown",
      "metadata": {
        "id": "fXVXoFWtSF4_",
        "colab_type": "text"
      },
      "source": [
        "## Importing the dataset"
      ]
    },
    {
      "cell_type": "code",
      "metadata": {
        "id": "xfoa8OSORfHQ",
        "colab_type": "code",
        "colab": {}
      },
      "source": [
        "dataset = pd.read_csv('EPA_Walkability_Index.csv')\n",
        "X = dataset.iloc[:, 1:-1].values\n",
        "y = dataset.iloc[:, -1].values"
      ],
      "execution_count": null,
      "outputs": []
    },
    {
      "cell_type": "code",
      "metadata": {
        "id": "_8Ny1GfPiV3m",
        "colab_type": "code",
        "colab": {}
      },
      "source": [
        "y = y.reshape(len(y),1)"
      ],
      "execution_count": null,
      "outputs": []
    },
    {
      "cell_type": "markdown",
      "metadata": {
        "id": "Ngaz3o7vZnTw",
        "colab_type": "text"
      },
      "source": [
        "**encoding independent variables**"
      ]
    },
    {
      "cell_type": "code",
      "metadata": {
        "id": "mm1ZZyHEZ-8W",
        "colab_type": "code",
        "colab": {}
      },
      "source": [
        "from sklearn.compose import ColumnTransformer\n",
        "from sklearn.preprocessing import OneHotEncoder\n",
        "ct = ColumnTransformer(transformers=[('encoder', OneHotEncoder(), [1])], remainder='passthrough')\n",
        "X = np.array(ct.fit_transform(X))"
      ],
      "execution_count": null,
      "outputs": []
    },
    {
      "cell_type": "markdown",
      "metadata": {
        "id": "6Vk3nNlrCVCN",
        "colab_type": "text"
      },
      "source": [
        "## Splitting the dataset into the Training set and Test set"
      ]
    },
    {
      "cell_type": "code",
      "metadata": {
        "id": "x_fXqrziCV3_",
        "colab_type": "code",
        "colab": {}
      },
      "source": [
        "from sklearn.model_selection import train_test_split\n",
        "X_train, X_test, y_train, y_test = train_test_split(X, y, test_size = 0.2, random_state = 0)"
      ],
      "execution_count": null,
      "outputs": []
    },
    {
      "cell_type": "markdown",
      "metadata": {
        "id": "YS8FeLHYS-nI",
        "colab_type": "text"
      },
      "source": [
        "## Feature Scaling"
      ]
    },
    {
      "cell_type": "code",
      "metadata": {
        "id": "PGeAlD1HTDI1",
        "colab_type": "code",
        "colab": {}
      },
      "source": [
        "from sklearn.preprocessing import StandardScaler\n",
        "sc_X = StandardScaler()\n",
        "sc_y = StandardScaler()\n",
        "X_train = sc_X.fit_transform(X_train)\n",
        "y_train = sc_y.fit_transform(y_train)"
      ],
      "execution_count": null,
      "outputs": []
    },
    {
      "cell_type": "markdown",
      "metadata": {
        "id": "eiU6D2QFRjxY",
        "colab_type": "text"
      },
      "source": [
        "## Training the SVR model on the Training set"
      ]
    },
    {
      "cell_type": "code",
      "metadata": {
        "id": "y6R4rt_GRz15",
        "colab_type": "code",
        "colab": {
          "base_uri": "https://localhost:8080/",
          "height": 104
        },
        "outputId": "62f73db8-57fe-4cff-da5e-bbb3b37e0ed0"
      },
      "source": [
        "from sklearn.svm import SVR\n",
        "regressor = SVR(kernel = 'rbf')\n",
        "regressor.fit(X_train, y_train)"
      ],
      "execution_count": null,
      "outputs": [
        {
          "output_type": "stream",
          "text": [
            "/usr/local/lib/python3.6/dist-packages/sklearn/utils/validation.py:760: DataConversionWarning: A column-vector y was passed when a 1d array was expected. Please change the shape of y to (n_samples, ), for example using ravel().\n",
            "  y = column_or_1d(y, warn=True)\n"
          ],
          "name": "stderr"
        },
        {
          "output_type": "execute_result",
          "data": {
            "text/plain": [
              "SVR(C=1.0, cache_size=200, coef0=0.0, degree=3, epsilon=0.1, gamma='scale',\n",
              "    kernel='rbf', max_iter=-1, shrinking=True, tol=0.001, verbose=False)"
            ]
          },
          "metadata": {
            "tags": []
          },
          "execution_count": 9
        }
      ]
    },
    {
      "cell_type": "markdown",
      "metadata": {
        "id": "aPYA5W1pDBOE",
        "colab_type": "text"
      },
      "source": [
        "## Predicting the Test set results"
      ]
    },
    {
      "cell_type": "code",
      "metadata": {
        "id": "vSqFVDYrDROW",
        "colab_type": "code",
        "colab": {
          "base_uri": "https://localhost:8080/",
          "height": 1000
        },
        "outputId": "641e82d3-ea63-4d90-f568-e7edada2aa70"
      },
      "source": [
        "y_pred = sc_y.inverse_transform(regressor.predict(sc_X.transform(X_test)))\n",
        "np.set_printoptions(precision=2)\n",
        "print(np.concatenate((y_pred.reshape(len(y_pred),1), y_test.reshape(len(y_test),1)),1))"
      ],
      "execution_count": null,
      "outputs": [
        {
          "output_type": "stream",
          "text": [
            "[[ 5.98  6.67]\n",
            " [11.2  12.67]\n",
            " [10.47 10.83]\n",
            " [15.61 14.33]\n",
            " [14.88 14.5 ]\n",
            " [16.26 17.17]\n",
            " [15.55 17.  ]\n",
            " [ 5.09  5.5 ]\n",
            " [ 7.52  7.5 ]\n",
            " [ 5.06  4.  ]\n",
            " [13.9  13.5 ]\n",
            " [ 9.1   6.5 ]\n",
            " [11.75 11.67]\n",
            " [10.21  9.67]\n",
            " [11.62 12.17]\n",
            " [14.58 14.5 ]\n",
            " [15.56 15.67]\n",
            " [13.48 13.33]\n",
            " [11.91 12.67]\n",
            " [14.94 14.67]\n",
            " [13.42 13.33]\n",
            " [12.18 12.33]\n",
            " [11.75 11.33]\n",
            " [ 6.99  7.17]\n",
            " [15.69 16.67]\n",
            " [13.8  13.67]\n",
            " [16.58 16.67]\n",
            " [14.78 14.83]\n",
            " [ 5.3   4.5 ]\n",
            " [14.86 15.5 ]\n",
            " [14.47 15.33]\n",
            " [15.09 15.33]\n",
            " [14.22 14.67]\n",
            " [13.48 13.17]\n",
            " [12.07 12.67]\n",
            " [13.6  13.5 ]\n",
            " [16.67 16.33]\n",
            " [ 3.33  3.  ]\n",
            " [ 5.86  5.83]\n",
            " [14.29 14.5 ]\n",
            " [13.65 13.67]\n",
            " [12.76 13.17]\n",
            " [16.53 16.67]\n",
            " [ 6.05  5.5 ]\n",
            " [13.38 13.83]\n",
            " [10.   10.  ]\n",
            " [14.61 14.83]\n",
            " [16.51 16.67]\n",
            " [17.08 17.33]\n",
            " [ 5.25  5.17]\n",
            " [15.26 14.33]\n",
            " [13.27 14.67]\n",
            " [14.18 13.67]\n",
            " [13.1  13.67]\n",
            " [15.4  16.33]\n",
            " [ 4.19  4.5 ]\n",
            " [ 9.57 10.  ]\n",
            " [15.35 14.67]\n",
            " [14.39 13.67]\n",
            " [15.61 15.17]\n",
            " [15.3  15.5 ]\n",
            " [14.11 14.67]\n",
            " [ 9.69 10.33]\n",
            " [ 9.3   9.5 ]\n",
            " [10.68 10.83]\n",
            " [ 9.91  9.33]\n",
            " [15.9  15.33]\n",
            " [16.63 16.  ]\n",
            " [ 8.51  8.17]\n",
            " [14.87 14.33]\n",
            " [12.33 11.67]\n",
            " [12.39 12.5 ]\n",
            " [13.92 14.5 ]\n",
            " [11.84 11.5 ]\n",
            " [ 8.39  8.83]\n",
            " [15.5  15.83]\n",
            " [13.11 14.  ]\n",
            " [17.69 17.  ]\n",
            " [ 7.15  7.  ]\n",
            " [12.08 12.  ]\n",
            " [13.76 13.5 ]\n",
            " [12.4  12.5 ]\n",
            " [16.95 17.33]\n",
            " [14.01 14.67]\n",
            " [15.39 15.33]\n",
            " [16.86 16.  ]\n",
            " [17.26 17.17]\n",
            " [ 9.4   9.33]\n",
            " [17.92 17.33]\n",
            " [12.41 12.  ]\n",
            " [15.63 14.83]\n",
            " [15.72 16.17]\n",
            " [ 7.78  8.  ]\n",
            " [ 7.25  6.67]\n",
            " [14.94 14.83]\n",
            " [13.65 13.5 ]\n",
            " [14.29 13.67]\n",
            " [15.04 15.  ]\n",
            " [ 6.6   7.  ]\n",
            " [11.93 11.17]\n",
            " [17.08 17.5 ]\n",
            " [15.07 15.17]\n",
            " [14.71 16.  ]\n",
            " [ 5.99  5.67]\n",
            " [13.98 14.83]\n",
            " [14.71 14.67]\n",
            " [ 4.46  5.  ]\n",
            " [ 3.35  2.67]\n",
            " [ 9.69  9.5 ]\n",
            " [15.81 16.17]\n",
            " [12.82 13.17]\n",
            " [14.53 14.17]\n",
            " [11.07 10.83]\n",
            " [ 6.61  6.67]\n",
            " [15.73 15.83]\n",
            " [15.23 15.67]\n",
            " [14.98 16.  ]\n",
            " [16.15 16.67]\n",
            " [17.65 17.67]\n",
            " [15.41 15.5 ]\n",
            " [13.43 12.5 ]\n",
            " [14.28 14.33]\n",
            " [11.12 10.67]\n",
            " [13.79 13.17]\n",
            " [15.78 15.5 ]\n",
            " [ 7.9   7.83]\n",
            " [12.6  12.  ]\n",
            " [ 9.98 13.  ]\n",
            " [11.17 10.83]\n",
            " [14.63 13.83]\n",
            " [16.79 16.33]\n",
            " [17.69 16.83]\n",
            " [15.5  16.  ]\n",
            " [12.99 12.67]\n",
            " [14.88 15.83]\n",
            " [14.55 14.  ]\n",
            " [14.51 13.67]\n",
            " [13.39 12.67]\n",
            " [10.43 10.33]\n",
            " [14.87 14.17]\n",
            " [13.77 13.83]\n",
            " [ 4.4   4.5 ]\n",
            " [10.74 15.17]\n",
            " [16.16 15.33]\n",
            " [16.88 16.17]\n",
            " [15.   15.67]\n",
            " [17.07 16.83]\n",
            " [ 9.98 10.83]\n",
            " [12.55 12.83]\n",
            " [10.9  11.  ]\n",
            " [15.36 15.17]\n",
            " [15.09 15.67]\n",
            " [11.71 11.33]\n",
            " [13.65 13.5 ]\n",
            " [ 9.32  5.83]\n",
            " [15.47 15.67]\n",
            " [14.37 14.67]\n",
            " [ 5.17  1.67]\n",
            " [11.24 11.33]\n",
            " [14.9  15.17]\n",
            " [13.64 13.  ]\n",
            " [15.7  16.  ]\n",
            " [11.83 11.83]\n",
            " [16.46 17.5 ]\n",
            " [ 4.81  5.  ]\n",
            " [12.42 12.5 ]\n",
            " [12.12 12.17]\n",
            " [13.23 12.33]\n",
            " [10.16  9.67]\n",
            " [12.77 12.67]\n",
            " [15.6  16.17]\n",
            " [14.08 14.5 ]\n",
            " [ 7.96  3.  ]\n",
            " [15.33 16.5 ]\n",
            " [14.13 15.33]\n",
            " [12.66 12.83]\n",
            " [11.36 12.  ]\n",
            " [17.34 16.5 ]\n",
            " [12.19 12.17]\n",
            " [13.03 12.17]\n",
            " [17.56 17.83]\n",
            " [12.37 11.83]\n",
            " [15.46 15.83]\n",
            " [17.12 16.5 ]\n",
            " [10.97 10.83]\n",
            " [12.56 13.67]\n",
            " [ 8.96  9.17]\n",
            " [15.97 15.67]\n",
            " [11.95 11.5 ]\n",
            " [13.33 13.17]\n",
            " [14.73 14.17]\n",
            " [ 4.85  4.5 ]\n",
            " [12.74 12.67]\n",
            " [14.03 14.33]\n",
            " [15.19 14.33]\n",
            " [17.81 18.5 ]\n",
            " [ 4.22  3.83]\n",
            " [14.1  13.67]\n",
            " [ 7.09  7.33]\n",
            " [16.8  17.67]\n",
            " [16.19 17.83]\n",
            " [14.88 14.5 ]\n",
            " [ 6.87  6.5 ]\n",
            " [10.23 11.5 ]\n",
            " [16.1  15.67]\n",
            " [15.29 16.5 ]\n",
            " [13.29 13.67]\n",
            " [16.77 16.67]\n",
            " [16.64 17.5 ]\n",
            " [17.9  18.  ]\n",
            " [11.88 11.33]\n",
            " [11.75 12.  ]\n",
            " [16.46 16.83]\n",
            " [12.96 12.  ]\n",
            " [ 8.46  8.67]\n",
            " [13.57 13.17]\n",
            " [13.15 13.  ]\n",
            " [13.25 12.67]\n",
            " [15.97 16.33]\n",
            " [17.41 18.33]\n",
            " [13.86 13.83]\n",
            " [14.99 14.33]\n",
            " [ 7.19  6.17]\n",
            " [ 8.78  8.67]\n",
            " [12.62 12.5 ]\n",
            " [11.82 11.83]\n",
            " [13.33 12.67]\n",
            " [16.37 16.83]\n",
            " [10.59 10.17]\n",
            " [12.63 13.83]\n",
            " [ 9.31  4.33]\n",
            " [13.16 13.83]\n",
            " [16.2  15.83]\n",
            " [ 5.47  5.83]\n",
            " [13.18 13.5 ]\n",
            " [10.66  7.  ]\n",
            " [10.88 11.  ]\n",
            " [12.31 11.83]\n",
            " [11.62 11.83]\n",
            " [12.75 12.33]\n",
            " [12.53 12.33]\n",
            " [15.04 14.5 ]\n",
            " [16.25 15.  ]\n",
            " [12.5  12.5 ]\n",
            " [ 3.94  4.  ]\n",
            " [13.26 14.  ]\n",
            " [17.58 17.83]\n",
            " [13.29 13.33]\n",
            " [17.17 17.17]\n",
            " [ 5.85  5.  ]\n",
            " [13.87 13.33]\n",
            " [14.65 15.83]\n",
            " [ 7.61  7.83]\n",
            " [ 8.58  8.5 ]\n",
            " [10.14 10.  ]\n",
            " [15.17 14.83]]\n"
          ],
          "name": "stdout"
        }
      ]
    },
    {
      "cell_type": "markdown",
      "metadata": {
        "id": "CMsYlps2DX1d",
        "colab_type": "text"
      },
      "source": [
        "## Evaluating the Model Performance"
      ]
    },
    {
      "cell_type": "code",
      "metadata": {
        "id": "HxsRWlURDr6S",
        "colab_type": "code",
        "colab": {
          "base_uri": "https://localhost:8080/",
          "height": 34
        },
        "outputId": "8dc2dd70-4891-492b-d3c6-aec20eb9d3d2"
      },
      "source": [
        "from sklearn.metrics import r2_score\n",
        "r2_score(y_test, y_pred)"
      ],
      "execution_count": null,
      "outputs": [
        {
          "output_type": "execute_result",
          "data": {
            "text/plain": [
              "0.921608344609894"
            ]
          },
          "metadata": {
            "tags": []
          },
          "execution_count": 11
        }
      ]
    },
    {
      "cell_type": "code",
      "metadata": {
        "id": "CRuQmBxy67sT",
        "colab_type": "code",
        "colab": {}
      },
      "source": [
        ""
      ],
      "execution_count": null,
      "outputs": []
    }
  ]
}
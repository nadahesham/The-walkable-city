{
  "nbformat": 4,
  "nbformat_minor": 0,
  "metadata": {
    "colab": {
      "name": "The walkable city_polynomial_regression.ipynb",
      "provenance": [],
      "collapsed_sections": [],
      "include_colab_link": true
    },
    "kernelspec": {
      "name": "python3",
      "display_name": "Python 3"
    }
  },
  "cells": [
    {
      "cell_type": "markdown",
      "metadata": {
        "id": "view-in-github",
        "colab_type": "text"
      },
      "source": [
        "<a href=\"https://colab.research.google.com/github/nadahesham/The-walkable-city/blob/master/The_walkable_city_polynomial_regression.ipynb\" target=\"_parent\"><img src=\"https://colab.research.google.com/assets/colab-badge.svg\" alt=\"Open In Colab\"/></a>"
      ]
    },
    {
      "cell_type": "markdown",
      "metadata": {
        "id": "vN99YjPTDena",
        "colab_type": "text"
      },
      "source": [
        "# Polynomial Regression"
      ]
    },
    {
      "cell_type": "markdown",
      "metadata": {
        "id": "ZIx_naXnDyHd",
        "colab_type": "text"
      },
      "source": [
        "## Importing the libraries"
      ]
    },
    {
      "cell_type": "code",
      "metadata": {
        "id": "FjnmdyPLD2tS",
        "colab_type": "code",
        "colab": {}
      },
      "source": [
        "import numpy as np\n",
        "import matplotlib.pyplot as plt\n",
        "import pandas as pd"
      ],
      "execution_count": 15,
      "outputs": []
    },
    {
      "cell_type": "markdown",
      "metadata": {
        "id": "6c8YExmOD5x5",
        "colab_type": "text"
      },
      "source": [
        "## Importing the dataset"
      ]
    },
    {
      "cell_type": "code",
      "metadata": {
        "id": "nQOdXhjXD_AE",
        "colab_type": "code",
        "colab": {}
      },
      "source": [
        "dataset = pd.read_csv('EPA_Walkability_Index.csv')\n",
        "X = dataset.iloc[:, 1:-1].values\n",
        "y = dataset.iloc[:, -1].values"
      ],
      "execution_count": 16,
      "outputs": []
    },
    {
      "cell_type": "markdown",
      "metadata": {
        "id": "mk5aDGFalR3l",
        "colab_type": "text"
      },
      "source": [
        "Encoding the independent variables\n"
      ]
    },
    {
      "cell_type": "code",
      "metadata": {
        "id": "xwYqzlItlQfI",
        "colab_type": "code",
        "colab": {}
      },
      "source": [
        "from sklearn.compose import ColumnTransformer\n",
        "from sklearn.preprocessing import OneHotEncoder\n",
        "ct = ColumnTransformer(transformers=[('encoder', OneHotEncoder(), [1])], remainder='passthrough')\n",
        "X = np.array(ct.fit_transform(X))"
      ],
      "execution_count": 17,
      "outputs": []
    },
    {
      "cell_type": "markdown",
      "metadata": {
        "id": "Ud_1XTb28iXH",
        "colab_type": "text"
      },
      "source": [
        "## Splitting the dataset into the Training set and Test set"
      ]
    },
    {
      "cell_type": "code",
      "metadata": {
        "id": "bUib_pbl8ipB",
        "colab_type": "code",
        "colab": {}
      },
      "source": [
        "from sklearn.model_selection import train_test_split\n",
        "X_train, X_test, y_train, y_test = train_test_split(X, y, test_size = 0.2, random_state = 0)"
      ],
      "execution_count": 18,
      "outputs": []
    },
    {
      "cell_type": "markdown",
      "metadata": {
        "id": "Rb5nWuSHEfBV",
        "colab_type": "text"
      },
      "source": [
        "## Training the Polynomial Regression model on the Training set"
      ]
    },
    {
      "cell_type": "code",
      "metadata": {
        "id": "HYplp4pTEm0O",
        "colab_type": "code",
        "colab": {
          "base_uri": "https://localhost:8080/",
          "height": 33
        },
        "outputId": "ba1a87d3-44a9-483c-c124-fe42b5c78a3d"
      },
      "source": [
        "from sklearn.preprocessing import PolynomialFeatures\n",
        "from sklearn.linear_model import LinearRegression\n",
        "poly_reg = PolynomialFeatures(degree = 1)\n",
        "X_poly = poly_reg.fit_transform(X_train)\n",
        "regressor = LinearRegression()\n",
        "regressor.fit(X_poly, y_train)"
      ],
      "execution_count": 19,
      "outputs": [
        {
          "output_type": "execute_result",
          "data": {
            "text/plain": [
              "LinearRegression(copy_X=True, fit_intercept=True, n_jobs=None, normalize=False)"
            ]
          },
          "metadata": {
            "tags": []
          },
          "execution_count": 19
        }
      ]
    },
    {
      "cell_type": "markdown",
      "metadata": {
        "id": "pzF3BRps9nlk",
        "colab_type": "text"
      },
      "source": [
        "## Predicting the Test set results"
      ]
    },
    {
      "cell_type": "code",
      "metadata": {
        "id": "36aFLFBK9pMk",
        "colab_type": "code",
        "colab": {
          "base_uri": "https://localhost:8080/",
          "height": 1000
        },
        "outputId": "57d1bce2-356a-4d80-cc6e-f9779ebe601e"
      },
      "source": [
        "y_pred = regressor.predict(poly_reg.transform(X_test))\n",
        "np.set_printoptions(precision=2)\n",
        "print(np.concatenate((y_pred.reshape(len(y_pred),1), y_test.reshape(len(y_test),1)),1))"
      ],
      "execution_count": 20,
      "outputs": [
        {
          "output_type": "stream",
          "text": [
            "[[ 6.29  6.67]\n",
            " [11.11 12.67]\n",
            " [10.57 10.83]\n",
            " [15.27 14.33]\n",
            " [15.32 14.5 ]\n",
            " [16.99 17.17]\n",
            " [20.61 17.  ]\n",
            " [ 5.51  5.5 ]\n",
            " [ 6.5   7.5 ]\n",
            " [ 3.68  4.  ]\n",
            " [13.74 13.5 ]\n",
            " [ 6.88  6.5 ]\n",
            " [12.04 11.67]\n",
            " [10.29  9.67]\n",
            " [11.16 12.17]\n",
            " [14.85 14.5 ]\n",
            " [15.53 15.67]\n",
            " [13.53 13.33]\n",
            " [14.64 12.67]\n",
            " [15.18 14.67]\n",
            " [13.88 13.33]\n",
            " [12.28 12.33]\n",
            " [11.87 11.33]\n",
            " [ 7.16  7.17]\n",
            " [16.93 16.67]\n",
            " [14.13 13.67]\n",
            " [16.31 16.67]\n",
            " [14.59 14.83]\n",
            " [ 4.62  4.5 ]\n",
            " [14.74 15.5 ]\n",
            " [14.78 15.33]\n",
            " [14.69 15.33]\n",
            " [14.01 14.67]\n",
            " [13.67 13.17]\n",
            " [11.56 12.67]\n",
            " [13.69 13.5 ]\n",
            " [16.25 16.33]\n",
            " [ 2.86  3.  ]\n",
            " [ 5.89  5.83]\n",
            " [14.16 14.5 ]\n",
            " [13.53 13.67]\n",
            " [12.91 13.17]\n",
            " [16.12 16.67]\n",
            " [ 5.93  5.5 ]\n",
            " [13.6  13.83]\n",
            " [10.18 10.  ]\n",
            " [14.68 14.83]\n",
            " [16.34 16.67]\n",
            " [16.98 17.33]\n",
            " [ 5.17  5.17]\n",
            " [14.79 14.33]\n",
            " [13.85 14.67]\n",
            " [14.09 13.67]\n",
            " [12.97 13.67]\n",
            " [15.34 16.33]\n",
            " [ 4.38  4.5 ]\n",
            " [ 9.25 10.  ]\n",
            " [15.58 14.67]\n",
            " [14.23 13.67]\n",
            " [15.34 15.17]\n",
            " [15.16 15.5 ]\n",
            " [14.8  14.67]\n",
            " [ 9.5  10.33]\n",
            " [ 9.02  9.5 ]\n",
            " [10.4  10.83]\n",
            " [ 9.78  9.33]\n",
            " [15.66 15.33]\n",
            " [16.62 16.  ]\n",
            " [ 7.85  8.17]\n",
            " [14.85 14.33]\n",
            " [12.07 11.67]\n",
            " [12.71 12.5 ]\n",
            " [14.21 14.5 ]\n",
            " [12.26 11.5 ]\n",
            " [ 8.39  8.83]\n",
            " [15.22 15.83]\n",
            " [13.03 14.  ]\n",
            " [17.52 17.  ]\n",
            " [ 7.12  7.  ]\n",
            " [12.2  12.  ]\n",
            " [13.69 13.5 ]\n",
            " [12.73 12.5 ]\n",
            " [17.01 17.33]\n",
            " [14.09 14.67]\n",
            " [15.18 15.33]\n",
            " [16.46 16.  ]\n",
            " [17.31 17.17]\n",
            " [10.54  9.33]\n",
            " [18.2  17.33]\n",
            " [12.88 12.  ]\n",
            " [15.26 14.83]\n",
            " [16.02 16.17]\n",
            " [ 7.91  8.  ]\n",
            " [ 6.62  6.67]\n",
            " [15.2  14.83]\n",
            " [13.79 13.5 ]\n",
            " [14.29 13.67]\n",
            " [15.07 15.  ]\n",
            " [ 7.    7.  ]\n",
            " [11.65 11.17]\n",
            " [17.49 17.5 ]\n",
            " [15.6  15.17]\n",
            " [14.86 16.  ]\n",
            " [ 5.25  5.67]\n",
            " [14.37 14.83]\n",
            " [15.07 14.67]\n",
            " [ 4.98  5.  ]\n",
            " [ 2.71  2.67]\n",
            " [ 9.5   9.5 ]\n",
            " [15.73 16.17]\n",
            " [13.08 13.17]\n",
            " [14.24 14.17]\n",
            " [10.94 10.83]\n",
            " [ 6.43  6.67]\n",
            " [15.64 15.83]\n",
            " [15.44 15.67]\n",
            " [14.92 16.  ]\n",
            " [16.14 16.67]\n",
            " [17.32 17.67]\n",
            " [15.7  15.5 ]\n",
            " [13.55 12.5 ]\n",
            " [14.22 14.33]\n",
            " [11.42 10.67]\n",
            " [13.57 13.17]\n",
            " [15.68 15.5 ]\n",
            " [ 7.75  7.83]\n",
            " [12.56 12.  ]\n",
            " [13.12 13.  ]\n",
            " [10.94 10.83]\n",
            " [14.76 13.83]\n",
            " [16.57 16.33]\n",
            " [17.42 16.83]\n",
            " [16.49 16.  ]\n",
            " [13.09 12.67]\n",
            " [15.47 15.83]\n",
            " [14.91 14.  ]\n",
            " [14.62 13.67]\n",
            " [13.36 12.67]\n",
            " [10.2  10.33]\n",
            " [14.78 14.17]\n",
            " [14.13 13.83]\n",
            " [ 3.93  4.5 ]\n",
            " [14.3  15.17]\n",
            " [16.07 15.33]\n",
            " [16.65 16.17]\n",
            " [14.86 15.67]\n",
            " [16.81 16.83]\n",
            " [ 9.87 10.83]\n",
            " [12.57 12.83]\n",
            " [11.31 11.  ]\n",
            " [16.75 15.17]\n",
            " [15.02 15.67]\n",
            " [12.08 11.33]\n",
            " [13.7  13.5 ]\n",
            " [ 3.38  5.83]\n",
            " [15.46 15.67]\n",
            " [14.35 14.67]\n",
            " [ 2.77  1.67]\n",
            " [10.84 11.33]\n",
            " [14.8  15.17]\n",
            " [13.69 13.  ]\n",
            " [15.5  16.  ]\n",
            " [11.37 11.83]\n",
            " [16.03 17.5 ]\n",
            " [ 5.1   5.  ]\n",
            " [12.29 12.5 ]\n",
            " [11.85 12.17]\n",
            " [13.64 12.33]\n",
            " [ 9.3   9.67]\n",
            " [12.38 12.67]\n",
            " [16.21 16.17]\n",
            " [14.25 14.5 ]\n",
            " [ 2.34  3.  ]\n",
            " [15.16 16.5 ]\n",
            " [14.03 15.33]\n",
            " [12.98 12.83]\n",
            " [11.75 12.  ]\n",
            " [17.01 16.5 ]\n",
            " [11.98 12.17]\n",
            " [13.08 12.17]\n",
            " [18.78 17.83]\n",
            " [12.4  11.83]\n",
            " [15.26 15.83]\n",
            " [16.99 16.5 ]\n",
            " [10.91 10.83]\n",
            " [14.34 13.67]\n",
            " [ 8.93  9.17]\n",
            " [15.6  15.67]\n",
            " [12.16 11.5 ]\n",
            " [13.67 13.17]\n",
            " [14.69 14.17]\n",
            " [ 4.29  4.5 ]\n",
            " [13.06 12.67]\n",
            " [14.12 14.33]\n",
            " [14.84 14.33]\n",
            " [17.86 18.5 ]\n",
            " [ 3.67  3.83]\n",
            " [13.96 13.67]\n",
            " [ 7.47  7.33]\n",
            " [16.64 17.67]\n",
            " [16.54 17.83]\n",
            " [14.67 14.5 ]\n",
            " [ 6.17  6.5 ]\n",
            " [10.63 11.5 ]\n",
            " [16.   15.67]\n",
            " [16.38 16.5 ]\n",
            " [15.33 13.67]\n",
            " [16.53 16.67]\n",
            " [16.18 17.5 ]\n",
            " [17.76 18.  ]\n",
            " [11.59 11.33]\n",
            " [11.64 12.  ]\n",
            " [16.88 16.83]\n",
            " [12.85 12.  ]\n",
            " [ 8.37  8.67]\n",
            " [13.57 13.17]\n",
            " [13.   13.  ]\n",
            " [13.45 12.67]\n",
            " [20.13 16.33]\n",
            " [18.21 18.33]\n",
            " [13.85 13.83]\n",
            " [15.16 14.33]\n",
            " [ 6.37  6.17]\n",
            " [ 8.34  8.67]\n",
            " [12.67 12.5 ]\n",
            " [12.   11.83]\n",
            " [13.01 12.67]\n",
            " [16.   16.83]\n",
            " [10.58 10.17]\n",
            " [12.48 13.83]\n",
            " [ 3.52  4.33]\n",
            " [13.38 13.83]\n",
            " [16.   15.83]\n",
            " [ 5.97  5.83]\n",
            " [13.49 13.5 ]\n",
            " [ 6.12  7.  ]\n",
            " [11.18 11.  ]\n",
            " [12.66 11.83]\n",
            " [12.   11.83]\n",
            " [12.64 12.33]\n",
            " [12.87 12.33]\n",
            " [15.02 14.5 ]\n",
            " [15.72 15.  ]\n",
            " [12.71 12.5 ]\n",
            " [ 4.07  4.  ]\n",
            " [14.91 14.  ]\n",
            " [17.89 17.83]\n",
            " [13.2  13.33]\n",
            " [19.16 17.17]\n",
            " [ 5.97  5.  ]\n",
            " [13.88 13.33]\n",
            " [14.71 15.83]\n",
            " [ 7.73  7.83]\n",
            " [ 8.36  8.5 ]\n",
            " [ 9.84 10.  ]\n",
            " [14.98 14.83]]\n"
          ],
          "name": "stdout"
        }
      ]
    },
    {
      "cell_type": "markdown",
      "metadata": {
        "id": "Fz1uTlWV919-",
        "colab_type": "text"
      },
      "source": [
        "## Evaluating the Model Performance"
      ]
    },
    {
      "cell_type": "code",
      "metadata": {
        "id": "xvZQ_4W893-e",
        "colab_type": "code",
        "colab": {
          "base_uri": "https://localhost:8080/",
          "height": 33
        },
        "outputId": "6383f9e0-a162-4e92-eded-b4f0efb7684c"
      },
      "source": [
        "from sklearn.metrics import mean_absolute_error\n",
        "from sklearn.metrics import r2_score\n",
        "from sklearn.metrics import mean_squared_error\n",
        "from sklearn.metrics import confusion_matrix\n",
        "print(r2_score(y_test, y_pred))\n",
        "\n"
      ],
      "execution_count": 28,
      "outputs": [
        {
          "output_type": "stream",
          "text": [
            "0.9642319142507818\n"
          ],
          "name": "stdout"
        }
      ]
    },
    {
      "cell_type": "code",
      "metadata": {
        "id": "lcsa4RVhG4n8",
        "colab_type": "code",
        "colab": {}
      },
      "source": [
        ""
      ],
      "execution_count": null,
      "outputs": []
    }
  ]
}